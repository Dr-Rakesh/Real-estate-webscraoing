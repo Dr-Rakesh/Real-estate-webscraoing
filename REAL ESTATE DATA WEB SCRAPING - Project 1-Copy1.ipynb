{
 "cells": [
  {
   "cell_type": "markdown",
   "id": "598b5d34",
   "metadata": {},
   "source": [
    "# LARGE RESIDENTIAL PROJECT PROPOSAL\n",
    "With this project, we are trying to propose a residential multi-use large-size project at KUMBALAGODU.  The selected site has about 8% vegetation with coconut trees and deciduous trees. The site is located along the Eastern edge of Mysore Road with a road width of 45 meters and on the northwest side is a railway track at a distance of 100 m from the site. A water body is also visible on the Southwest side of the site. \n",
    "\n",
    "There is no existing structures or sewage lines inside the site nearest sewage lines is outside the side boundary on the eastern side of the Mysore Road.\n",
    "![image](https://i.imgur.com/uv4rDRo.png)"
   ]
  },
  {
   "cell_type": "markdown",
   "id": "d287941e",
   "metadata": {},
   "source": [
    "# Project outline\n",
    "\n",
    "- Proposal of a project\n",
    "\n",
    "- Study current market trends in real estate \n",
    "\n",
    "- Real estate data analysis\n",
    "\n",
    "- Installing and importing libraries\n",
    "\n",
    "- Accessing data from an websites\n",
    "\n",
    "- Extracting data and compiling into a data frame\n",
    "\n",
    "- Storing data into an excel"
   ]
  },
  {
   "cell_type": "markdown",
   "id": "128a3438",
   "metadata": {},
   "source": [
    "# LOCATION\n",
    "## The site is located 17.5 km from majestic \n",
    "\n",
    "### Nearest office spaces are:\n",
    "\n",
    "● GLOBAL VILLAGE TECH PARK 6.8KM \n",
    "\n",
    "● GRAM PANCHAYAT OFFICE KUMBALGODU-1.3KM \n",
    "\n",
    "● POST OFFICE-1.6KM \n",
    "\n",
    "● BBMP OFFICE-4.8KM\n",
    "\n",
    "● SUB REGISTRAR OFFICE-5.4KM \n",
    "\n",
    "● FEATHERLITE OFFICE SYSTEMS-1.7KM \n",
    "\n",
    "● PEPSICO-2.3KM \n",
    "\n",
    "● AMRUT DISTILLERIES-ACROSS THE ROAD\n",
    "\n",
    "### NEAREST BUS STOP(TRAVEL TIME) \n",
    "\n",
    "● RAMOHALLI CROSS-450M \n",
    "\n",
    "● CS JUGGAT PHARMA-280 M\n",
    "\n",
    "### NEAREST METRO STATION\n",
    "\n",
    "● MYSORE ROAD METRO STATION(existing)-11.7KM\n",
    "\n",
    "● CHELLAGHTA METRO DEPOT(proposed)-1.1KM\n",
    "\n",
    "### NEAREST ECONOMIC HUB\n",
    "\n",
    "● RR NAGAR-11KM\n",
    "\n",
    "● KENGERI-6.1KM"
   ]
  },
  {
   "cell_type": "markdown",
   "id": "afce30ad",
   "metadata": {},
   "source": [
    "# REGULATORY\n",
    "- DEVELOPMENT AUTHORITY : BANGALORE DEVELOPMENT AUTHORITY.\n",
    "     PLANNING DISTRICT : 322,\n",
    "     KUMBALAGODU\n",
    "- CDP TO BE CONSIDERED : EXISTING LAND USE - RING 3\n",
    "     REVISED MASTER PLAN , 2015 , BENGALURU\n",
    "![image](https://i.imgur.com/HNgceyN.png)"
   ]
  },
  {
   "cell_type": "markdown",
   "id": "178b5446",
   "metadata": {},
   "source": [
    "● SITE AREA : 11.73 Acres = 510917.51 SQ.FT\n",
    "● ROAD WIDTH : 45 M\n",
    "● PROPOSED LAND USE : RESIDENTIAL MIXED\n",
    "● Open area +Civic amenities : 10% + 5%\n",
    "● FSI : 3.25\n",
    "● GROUND COVERAGE : 50%"
   ]
  },
  {
   "cell_type": "markdown",
   "id": "ca6db622",
   "metadata": {},
   "source": [
    "# REGULATIONS\n",
    "![image](https://i.imgur.com/LnwdYKC.png)\n",
    "![image](https://i.imgur.com/s7YqykC.png)\n",
    "![image](https://i.imgur.com/5z1pzsQ.png)\n",
    "![image](https://i.imgur.com/L0lQbnH.png)"
   ]
  },
  {
   "cell_type": "markdown",
   "id": "cc3dc560",
   "metadata": {},
   "source": [
    "# MARKET SURVEY - By web scraping"
   ]
  },
  {
   "cell_type": "markdown",
   "id": "61d67226",
   "metadata": {},
   "source": [
    "# **Installs & Imports**"
   ]
  },
  {
   "cell_type": "code",
   "execution_count": 1,
   "id": "7b8d5d2b",
   "metadata": {},
   "outputs": [
    {
     "data": {
      "application/javascript": [
       "window.require && require([\"base/js/namespace\"],function(Jupyter){Jupyter.notebook.save_checkpoint()})"
      ],
      "text/plain": [
       "<IPython.core.display.Javascript object>"
      ]
     },
     "metadata": {},
     "output_type": "display_data"
    },
    {
     "name": "stdout",
     "output_type": "stream",
     "text": [
      "[jovian] Updating notebook \"rakesh-rajagopalachary/scraping-real-estate-website-and-analysis-using-python\" on https://jovian.ai/\u001b[0m\n",
      "[jovian] Committed successfully! https://jovian.ai/rakesh-rajagopalachary/scraping-real-estate-website-and-analysis-using-python\u001b[0m\n"
     ]
    },
    {
     "data": {
      "text/plain": [
       "'https://jovian.ai/rakesh-rajagopalachary/scraping-real-estate-website-and-analysis-using-python'"
      ]
     },
     "execution_count": 1,
     "metadata": {},
     "output_type": "execute_result"
    }
   ],
   "source": [
    "import urllib.request as urllib2\n",
    "import csv\n",
    "import requests\n",
    "import re\n",
    "from bs4 import BeautifulSoup\n",
    "import pandas as pd\n",
    "import jovian\n",
    "# Execute this to save new versions of the notebook\n",
    "jovian.commit(project='Scraping Real estate website and analysis using Python')"
   ]
  },
  {
   "cell_type": "code",
   "execution_count": 2,
   "id": "f3493b65",
   "metadata": {},
   "outputs": [],
   "source": [
    "def response (url):\n",
    "    response = requests.get(url)\n",
    "    response1 = response.status_code\n",
    "    if response1 == 200:\n",
    "        print('Pass')\n",
    "    if response1 != 200:\n",
    "        return response1"
   ]
  },
  {
   "cell_type": "code",
   "execution_count": 3,
   "id": "1e04cfa5",
   "metadata": {},
   "outputs": [],
   "source": [
    "def doc (url):\n",
    "    response = requests.get(url)\n",
    "    page_contents = response.text\n",
    "    with open('text.html', 'w', encoding=\"utf-8\") as file:\n",
    "        file.write(page_contents)\n",
    "#Reading the page contents from a html file    \n",
    "    with open('text.html', 'r') as f:\n",
    "        html_source = f.read()\n",
    "# Converting the page to  Beautiful soup document using html.parser    \n",
    "    doc = BeautifulSoup(html_source, 'html.parser')\n",
    "    return doc"
   ]
  },
  {
   "cell_type": "code",
   "execution_count": 4,
   "id": "ea6df352",
   "metadata": {},
   "outputs": [],
   "source": [
    "def soup (url):\n",
    "    #Request to pass the page with user agent which is going to access the website as a browser not as a automated scraper.\n",
    "    request = urllib2.Request(url, headers={'User-Agent': 'Mozilla/5.0 (Windows NT 10.0; Win64; x64) AppleWebKit/537.36 (KHTML, like Gecko) Chrome/103.0.0.0 Safari/537.36'})\n",
    "    page = urllib2.urlopen(request)\n",
    "    #For beautiful soup 'html.parser' is the best parser out of many parsers avilable\n",
    "    soup = BeautifulSoup(page, 'html.parser')\n",
    "    return soup\n"
   ]
  },
  {
   "cell_type": "code",
   "execution_count": 5,
   "id": "c87462e8",
   "metadata": {},
   "outputs": [],
   "source": [
    "def df (x):\n",
    "    df = pd.DataFrame(x)\n",
    "    return df"
   ]
  },
  {
   "cell_type": "code",
   "execution_count": 109,
   "id": "7d5caba3",
   "metadata": {},
   "outputs": [],
   "source": [
    "def loop(x):\n",
    "    banthu =[result.find(x) for result in list_items]\n",
    "    return banthu\n",
    "    "
   ]
  },
  {
   "cell_type": "code",
   "execution_count": 7,
   "id": "b31ced50",
   "metadata": {},
   "outputs": [],
   "source": [
    "def loop_all(x):\n",
    "    banthu =[result.find_all(x).get_text() for result in list_items]\n",
    "    return banthu"
   ]
  },
  {
   "cell_type": "markdown",
   "id": "f5b9e6fb",
   "metadata": {},
   "source": [
    "# MAGIC BRICKS\n",
    "![image](https://i.imgur.com/BsKiH2M.jpg)"
   ]
  },
  {
   "cell_type": "code",
   "execution_count": 8,
   "id": "b39568fc",
   "metadata": {},
   "outputs": [],
   "source": [
    "url = \"https://www.magicbricks.com/property-for-sale/residential-real-estate?&proptype=Multistorey-Apartment,Builder-Floor-Apartment,Penthouse,Studio-Apartment,Service-Apartment,Residential-House,Villa,Residential-Plot&cityName=Bangalore&bedrooms=11700,11703,11704,11701,11702&mbTrackSrc=tabChange&page=1&category=S\""
   ]
  },
  {
   "cell_type": "code",
   "execution_count": 9,
   "id": "a11213af",
   "metadata": {},
   "outputs": [
    {
     "name": "stdout",
     "output_type": "stream",
     "text": [
      "Pass\n"
     ]
    }
   ],
   "source": [
    "response (url)"
   ]
  },
  {
   "cell_type": "code",
   "execution_count": 10,
   "id": "c4ee9749",
   "metadata": {},
   "outputs": [],
   "source": [
    "Soup = soup (url)"
   ]
  },
  {
   "cell_type": "code",
   "execution_count": 11,
   "id": "2a53cb74",
   "metadata": {},
   "outputs": [],
   "source": [
    "#result item (starting point)\n",
    "list_items = Soup.find_all('div',{'class':'mb-srp__list'})"
   ]
  },
  {
   "cell_type": "code",
   "execution_count": 12,
   "id": "559f79a7",
   "metadata": {},
   "outputs": [
    {
     "data": {
      "text/plain": [
       "'12+'"
      ]
     },
     "execution_count": 12,
     "metadata": {},
     "output_type": "execute_result"
    }
   ],
   "source": [
    "#Number of photos availiable\n",
    "list_items[0].find('span',{'class':'mb-srp__card__photo__fig--count'}).get_text() "
   ]
  },
  {
   "cell_type": "code",
   "execution_count": 13,
   "id": "5c999642",
   "metadata": {},
   "outputs": [
    {
     "data": {
      "text/plain": [
       "'2 BHK Flat for Sale in Hennur Main Road '"
      ]
     },
     "execution_count": 13,
     "metadata": {},
     "output_type": "execute_result"
    }
   ],
   "source": [
    "#Ad title\n",
    "list_items[0].find('h2',{'class':'mb-srp__card--title'}).get_text()"
   ]
  },
  {
   "cell_type": "code",
   "execution_count": 14,
   "id": "6277fa89",
   "metadata": {},
   "outputs": [
    {
     "data": {
      "text/plain": [
       "'Purva Promenade'"
      ]
     },
     "execution_count": 14,
     "metadata": {},
     "output_type": "execute_result"
    }
   ],
   "source": [
    "#Society name\n",
    "list_items[0].find('a',{'class':'mb-srp__card__society--name'}).get_text()"
   ]
  },
  {
   "cell_type": "code",
   "execution_count": 15,
   "id": "c78876b1",
   "metadata": {},
   "outputs": [
    {
     "data": {
      "text/plain": [
       "'Unfurnished'"
      ]
     },
     "execution_count": 15,
     "metadata": {},
     "output_type": "execute_result"
    }
   ],
   "source": [
    "(list_items[0].find_all('div',{'class':'mb-srp__card__summary--value'})[3]).get_text()"
   ]
  },
  {
   "cell_type": "code",
   "execution_count": 16,
   "id": "78001977",
   "metadata": {},
   "outputs": [
    {
     "data": {
      "text/plain": [
       "'This property embraces 19.37 acres of land distinguished by spacious residential properties and exquisitely landscaped earth. Just few minutes off Hennur Road, these exquisitely styled Apartments have areas dedicated to a magnificent wave pool, Koi pond, snorkeling zone, a fully loaded gym with steam & sauna. Apartments in this location have seen a huge rise in demand due to the fast-growing infrastructure and would be an ideal destination to invest in for a quality living.'"
      ]
     },
     "execution_count": 16,
     "metadata": {},
     "output_type": "execute_result"
    }
   ],
   "source": [
    "#Description\n",
    "list_items[0].find('div',{'class':'mb-srp__card--desc--text'}).get_text()"
   ]
  },
  {
   "cell_type": "code",
   "execution_count": 17,
   "id": "21dc61e4",
   "metadata": {},
   "outputs": [
    {
     "data": {
      "text/plain": [
       "'₹99 Lac'"
      ]
     },
     "execution_count": 17,
     "metadata": {},
     "output_type": "execute_result"
    }
   ],
   "source": [
    "#Cost\n",
    "list_items[0].find('div',{'class':'mb-srp__card__price--amount'}).get_text() "
   ]
  },
  {
   "cell_type": "code",
   "execution_count": 18,
   "id": "1584a03e",
   "metadata": {},
   "outputs": [
    {
     "data": {
      "text/plain": [
       "'₹8036 per sqft'"
      ]
     },
     "execution_count": 18,
     "metadata": {},
     "output_type": "execute_result"
    }
   ],
   "source": [
    "#Cost per sqft\n",
    "list_items[0].find('div',{'class':'mb-srp__card__price--size'}).get_text()"
   ]
  },
  {
   "cell_type": "code",
   "execution_count": 19,
   "id": "dc904640",
   "metadata": {},
   "outputs": [],
   "source": [
    "# creating list\n",
    "Number_photos =[result.find('span',{'class':'mb-srp__card__photo__fig--count'}).get_text() for result in list_items]\n",
    "Title = [result.find('h2',{'class':'mb-srp__card--title'}).get_text() for result in list_items]\n",
    "Society = [result.find('a',{'class':'mb-srp__card__society--name'}).get_text() for result in list_items]\n",
    "#built = [result.find('div',{'class':'mb-srp__card__summary--value'}).get_text() for result in list_items]\n",
    "Description = [result.find('div',{'class':'mb-srp__card--desc--text'}).get_text() for result in list_items]\n",
    "Cost = [result.find('div',{'class':'mb-srp__card__price--amount'}).get_text() for result in list_items]\n",
    "Cost_sft = [result.find('div',{'class':'mb-srp__card__price--size'}).get_text() for result in list_items]\n",
    "Super_built = [(result.find_all('div',{'class':'mb-srp__card__summary--value'})[0]).get_text() for result in list_items]\n",
    "Property = [(result.find_all('div',{'class':'mb-srp__card__summary--value'})[1]).get_text()for result in list_items]\n",
    "Furniture = [(result.find_all('div',{'class':'mb-srp__card__summary--value'})[3]).get_text() for result in list_items]\n",
    "Parking = [(result.find_all('div',{'class':'mb-srp__card__summary--value'})[4]).get_text() for result in list_items]\n"
   ]
  },
  {
   "cell_type": "code",
   "execution_count": 20,
   "id": "bac8389f",
   "metadata": {},
   "outputs": [],
   "source": [
    "Magic_Brick = df({'Title':Title, 'Project': Society, 'Cost': Cost, 'Cost Per Sqft': Cost_sft, 'Data':Description})"
   ]
  },
  {
   "cell_type": "code",
   "execution_count": 21,
   "id": "96ddda66",
   "metadata": {},
   "outputs": [
    {
     "data": {
      "text/html": [
       "<div>\n",
       "<style scoped>\n",
       "    .dataframe tbody tr th:only-of-type {\n",
       "        vertical-align: middle;\n",
       "    }\n",
       "\n",
       "    .dataframe tbody tr th {\n",
       "        vertical-align: top;\n",
       "    }\n",
       "\n",
       "    .dataframe thead th {\n",
       "        text-align: right;\n",
       "    }\n",
       "</style>\n",
       "<table border=\"1\" class=\"dataframe\">\n",
       "  <thead>\n",
       "    <tr style=\"text-align: right;\">\n",
       "      <th></th>\n",
       "      <th>Title</th>\n",
       "      <th>Project</th>\n",
       "      <th>Cost</th>\n",
       "      <th>Cost Per Sqft</th>\n",
       "      <th>Data</th>\n",
       "    </tr>\n",
       "  </thead>\n",
       "  <tbody>\n",
       "    <tr>\n",
       "      <th>0</th>\n",
       "      <td>2 BHK Flat for Sale in Hennur Main Road</td>\n",
       "      <td>Purva Promenade</td>\n",
       "      <td>₹99 Lac</td>\n",
       "      <td>₹8036 per sqft</td>\n",
       "      <td>This property embraces 19.37 acres of land dis...</td>\n",
       "    </tr>\n",
       "    <tr>\n",
       "      <th>1</th>\n",
       "      <td>2 BHK Flat for Sale in Sarjapur Road</td>\n",
       "      <td>Bavisha Gardeniaa</td>\n",
       "      <td>₹39.3 Lac</td>\n",
       "      <td>₹4500 per sqft</td>\n",
       "      <td>Bavisha Gardenia is a new Creation defining ur...</td>\n",
       "    </tr>\n",
       "    <tr>\n",
       "      <th>2</th>\n",
       "      <td>2 BHK Flat for Sale in Kadubeesanahalli</td>\n",
       "      <td>Bhuvi By Amsha</td>\n",
       "      <td>₹1.33 Cr</td>\n",
       "      <td>₹9541 per sqft</td>\n",
       "      <td>A Home Where Everything is a Blessing. A premi...</td>\n",
       "    </tr>\n",
       "    <tr>\n",
       "      <th>3</th>\n",
       "      <td>2 BHK Flat for Sale in whitefield</td>\n",
       "      <td>Sai Sunshine</td>\n",
       "      <td>₹64.7 Lac</td>\n",
       "      <td>₹5460 per sqft</td>\n",
       "      <td>Sree Sai Sunshine which has Apartments at Whit...</td>\n",
       "    </tr>\n",
       "    <tr>\n",
       "      <th>4</th>\n",
       "      <td>1 BHK Flat for Sale in Varthur</td>\n",
       "      <td>Candeur Signature</td>\n",
       "      <td>₹58.2 Lac</td>\n",
       "      <td>₹9403 per sqft</td>\n",
       "      <td>Candeur signature is emerging as the hub for l...</td>\n",
       "    </tr>\n",
       "    <tr>\n",
       "      <th>5</th>\n",
       "      <td>2 BHK Flat for Sale in J P Nagar</td>\n",
       "      <td>Bhoomika Elites</td>\n",
       "      <td>₹51.2 Lac</td>\n",
       "      <td>₹4600 per sqft</td>\n",
       "      <td>The Project is Consisting of 1.5 Acre Land Lux...</td>\n",
       "    </tr>\n",
       "    <tr>\n",
       "      <th>6</th>\n",
       "      <td>2 BHK Flat for Sale in Thanisandra Main Road</td>\n",
       "      <td>Visalakshi Prakruthi</td>\n",
       "      <td>₹61 Lac</td>\n",
       "      <td>₹5985 per sqft</td>\n",
       "      <td>Strategically located at Thanisandra, the resi...</td>\n",
       "    </tr>\n",
       "    <tr>\n",
       "      <th>7</th>\n",
       "      <td>3 BHK Flat for Sale in Sarjapur Road</td>\n",
       "      <td>Mana Capitol</td>\n",
       "      <td>₹98.9 Lac</td>\n",
       "      <td>₹6800 per sqft</td>\n",
       "      <td>Mana Capitol enables the young generation toda...</td>\n",
       "    </tr>\n",
       "    <tr>\n",
       "      <th>8</th>\n",
       "      <td>2 BHK Flat for Sale in Old Madras Road</td>\n",
       "      <td>AV Sunrise</td>\n",
       "      <td>₹58.7 Lac</td>\n",
       "      <td>₹4600 per sqft</td>\n",
       "      <td>AV Sunrise is a premium residential project lo...</td>\n",
       "    </tr>\n",
       "    <tr>\n",
       "      <th>9</th>\n",
       "      <td>2 BHK Flat for Sale in Sahakara Nagar</td>\n",
       "      <td>Fortuna Acacia</td>\n",
       "      <td>₹95.3 Lac</td>\n",
       "      <td>₹8667 per sqft</td>\n",
       "      <td>This Residential property ensures to cater to ...</td>\n",
       "    </tr>\n",
       "    <tr>\n",
       "      <th>10</th>\n",
       "      <td>3 BHK Flat for Sale in RT Nagar</td>\n",
       "      <td>HM Tropical Tree</td>\n",
       "      <td>₹2.58 Cr</td>\n",
       "      <td>₹12000 per sqft</td>\n",
       "      <td>With proximity to Bengaluru International Airp...</td>\n",
       "    </tr>\n",
       "    <tr>\n",
       "      <th>11</th>\n",
       "      <td>3 BHK Flat for Sale in Hennur Main Road</td>\n",
       "      <td>Kumar Prospera</td>\n",
       "      <td>₹1.11 Cr</td>\n",
       "      <td>₹7604 per sqft</td>\n",
       "      <td>Rise above the rest with sprawling views of th...</td>\n",
       "    </tr>\n",
       "    <tr>\n",
       "      <th>12</th>\n",
       "      <td>2 BHK Flat for Sale in Mysore Road</td>\n",
       "      <td>Meda Greens</td>\n",
       "      <td>₹73.2 Lac</td>\n",
       "      <td>₹5999 per sqft</td>\n",
       "      <td>This project can also be considered for invest...</td>\n",
       "    </tr>\n",
       "    <tr>\n",
       "      <th>13</th>\n",
       "      <td>3 BHK Flat for Sale in Thanisandra Main Road</td>\n",
       "      <td>Aparna Maple</td>\n",
       "      <td>₹98 Lac</td>\n",
       "      <td>₹6980 per sqft</td>\n",
       "      <td>Located in the heart of North Bengaluru at K.N...</td>\n",
       "    </tr>\n",
       "    <tr>\n",
       "      <th>14</th>\n",
       "      <td>3 BHK Flat for Sale in Jakkur</td>\n",
       "      <td>Bollineni Astra</td>\n",
       "      <td>₹95.2 Lac</td>\n",
       "      <td>₹6242 per sqft</td>\n",
       "      <td>Where each of the apartments bear the impeccab...</td>\n",
       "    </tr>\n",
       "    <tr>\n",
       "      <th>15</th>\n",
       "      <td>2 BHK Flat for Sale in Kogilu</td>\n",
       "      <td>Adarsh Green Phase 2</td>\n",
       "      <td>₹49.4 Lac</td>\n",
       "      <td>₹5168 per sqft</td>\n",
       "      <td>Adarsh Greens Phase 2 by Adarsh Developers is ...</td>\n",
       "    </tr>\n",
       "    <tr>\n",
       "      <th>16</th>\n",
       "      <td>1 BHK Flat for Sale in Bommanahalli</td>\n",
       "      <td>Mahaveer Turquoise</td>\n",
       "      <td>₹28.9 Lac</td>\n",
       "      <td>₹5468 per sqft</td>\n",
       "      <td>Find your dream home at Mahaveer Turquoise, sp...</td>\n",
       "    </tr>\n",
       "    <tr>\n",
       "      <th>17</th>\n",
       "      <td>2 BHK Flat for Sale in Chandapura</td>\n",
       "      <td>Global Celesta</td>\n",
       "      <td>₹32.4 Lac</td>\n",
       "      <td>₹3523 per sqft</td>\n",
       "      <td>Celesta, by Global Edifice Developers &amp; Builde...</td>\n",
       "    </tr>\n",
       "    <tr>\n",
       "      <th>18</th>\n",
       "      <td>2 BHK Flat for Sale in Sarjapur Road</td>\n",
       "      <td>Abhee Silicon Shine</td>\n",
       "      <td>₹73.4 Lac</td>\n",
       "      <td>₹6067 per sqft</td>\n",
       "      <td>Abhee Silicon Shine will bring shine into your...</td>\n",
       "    </tr>\n",
       "    <tr>\n",
       "      <th>19</th>\n",
       "      <td>2 BHK Flat for Sale in Bommanahalli</td>\n",
       "      <td>SB Temple Tree</td>\n",
       "      <td>₹1.09 Cr</td>\n",
       "      <td>₹7539 per sqft</td>\n",
       "      <td>Located at Bommanahalli,Begur Hobli, Bangalore...</td>\n",
       "    </tr>\n",
       "    <tr>\n",
       "      <th>20</th>\n",
       "      <td>1 BHK Flat for Sale in Sarjapur Road</td>\n",
       "      <td>GRC Subhiksha</td>\n",
       "      <td>₹45.6 Lac</td>\n",
       "      <td>₹6612 per sqft</td>\n",
       "      <td>Subhiksha apartments is one of a kind investme...</td>\n",
       "    </tr>\n",
       "    <tr>\n",
       "      <th>21</th>\n",
       "      <td>3 BHK Flat for Sale in Hosa Road, off Hosur Road</td>\n",
       "      <td>GR Sitara</td>\n",
       "      <td>₹90 Lac</td>\n",
       "      <td>₹5489 per sqft</td>\n",
       "      <td>Just make your wish list and compare it with t...</td>\n",
       "    </tr>\n",
       "    <tr>\n",
       "      <th>22</th>\n",
       "      <td>2 BHK Flat for Sale in Kaggadasapura, Indira n...</td>\n",
       "      <td>Mathapathi Brundaavan</td>\n",
       "      <td>₹77.9 Lac</td>\n",
       "      <td>₹6180 per sqft</td>\n",
       "      <td>Home is deepest desires with valued features, ...</td>\n",
       "    </tr>\n",
       "    <tr>\n",
       "      <th>23</th>\n",
       "      <td>2 BHK Flat for Sale in Chandapura</td>\n",
       "      <td>Signature Splendor</td>\n",
       "      <td>₹40.9 Lac</td>\n",
       "      <td>₹3952 per sqft</td>\n",
       "      <td>Signature Splendor Township is nestled beside ...</td>\n",
       "    </tr>\n",
       "    <tr>\n",
       "      <th>24</th>\n",
       "      <td>2 BHK Flat for Sale in Jp Nagar Phase 7, J P N...</td>\n",
       "      <td>Rain bow Haven</td>\n",
       "      <td>₹65.7 Lac</td>\n",
       "      <td>₹5763 per sqft</td>\n",
       "      <td>Located in JP Nagar Phase 7, within a sprawlin...</td>\n",
       "    </tr>\n",
       "    <tr>\n",
       "      <th>25</th>\n",
       "      <td>3 BHK Flat for Sale in Sarjapur Road</td>\n",
       "      <td>The Prestige City Meridian Park</td>\n",
       "      <td>₹1.14 Cr</td>\n",
       "      <td>₹6847 per sqft</td>\n",
       "      <td>It presents a fully equipped array of faciliti...</td>\n",
       "    </tr>\n",
       "    <tr>\n",
       "      <th>26</th>\n",
       "      <td>1 BHK Flat for Sale in Bidadi, Mysore Road</td>\n",
       "      <td>Sattva Ashraya</td>\n",
       "      <td>₹24.7 Lac</td>\n",
       "      <td>₹4748 per sqft</td>\n",
       "      <td>Set in 4.2 acres of land, Ashraya is a conglom...</td>\n",
       "    </tr>\n",
       "    <tr>\n",
       "      <th>27</th>\n",
       "      <td>2 BHK Flat for Sale in Electronic City</td>\n",
       "      <td>ICON Happy Living</td>\n",
       "      <td>₹36 Lac</td>\n",
       "      <td>₹5341 per sqft</td>\n",
       "      <td>Located in one of the largest IT Hub of Bangal...</td>\n",
       "    </tr>\n",
       "    <tr>\n",
       "      <th>28</th>\n",
       "      <td>4 BHK Flat for Sale in Akshaya Nagar</td>\n",
       "      <td>Jampa Luxuria</td>\n",
       "      <td>₹2.97 Cr</td>\n",
       "      <td>₹7250 per sqft</td>\n",
       "      <td>4 Floors luxurious apartment with BBMP approva...</td>\n",
       "    </tr>\n",
       "    <tr>\n",
       "      <th>29</th>\n",
       "      <td>3 BHK Flat for Sale in Thanisandra</td>\n",
       "      <td>DSMAX Skycity</td>\n",
       "      <td>₹1.21 Cr</td>\n",
       "      <td>₹6000 per sqft</td>\n",
       "      <td>Presenting the marvelous creation which will r...</td>\n",
       "    </tr>\n",
       "  </tbody>\n",
       "</table>\n",
       "</div>"
      ],
      "text/plain": [
       "                                                Title  \\\n",
       "0            2 BHK Flat for Sale in Hennur Main Road    \n",
       "1               2 BHK Flat for Sale in Sarjapur Road    \n",
       "2            2 BHK Flat for Sale in Kadubeesanahalli    \n",
       "3                  2 BHK Flat for Sale in whitefield    \n",
       "4                     1 BHK Flat for Sale in Varthur    \n",
       "5                   2 BHK Flat for Sale in J P Nagar    \n",
       "6       2 BHK Flat for Sale in Thanisandra Main Road    \n",
       "7               3 BHK Flat for Sale in Sarjapur Road    \n",
       "8             2 BHK Flat for Sale in Old Madras Road    \n",
       "9              2 BHK Flat for Sale in Sahakara Nagar    \n",
       "10                   3 BHK Flat for Sale in RT Nagar    \n",
       "11           3 BHK Flat for Sale in Hennur Main Road    \n",
       "12                2 BHK Flat for Sale in Mysore Road    \n",
       "13      3 BHK Flat for Sale in Thanisandra Main Road    \n",
       "14                     3 BHK Flat for Sale in Jakkur    \n",
       "15                     2 BHK Flat for Sale in Kogilu    \n",
       "16               1 BHK Flat for Sale in Bommanahalli    \n",
       "17                 2 BHK Flat for Sale in Chandapura    \n",
       "18              2 BHK Flat for Sale in Sarjapur Road    \n",
       "19               2 BHK Flat for Sale in Bommanahalli    \n",
       "20              1 BHK Flat for Sale in Sarjapur Road    \n",
       "21  3 BHK Flat for Sale in Hosa Road, off Hosur Road    \n",
       "22  2 BHK Flat for Sale in Kaggadasapura, Indira n...   \n",
       "23                 2 BHK Flat for Sale in Chandapura    \n",
       "24  2 BHK Flat for Sale in Jp Nagar Phase 7, J P N...   \n",
       "25              3 BHK Flat for Sale in Sarjapur Road    \n",
       "26        1 BHK Flat for Sale in Bidadi, Mysore Road    \n",
       "27            2 BHK Flat for Sale in Electronic City    \n",
       "28              4 BHK Flat for Sale in Akshaya Nagar    \n",
       "29                3 BHK Flat for Sale in Thanisandra    \n",
       "\n",
       "                            Project       Cost    Cost Per Sqft  \\\n",
       "0                   Purva Promenade    ₹99 Lac   ₹8036 per sqft   \n",
       "1                 Bavisha Gardeniaa  ₹39.3 Lac   ₹4500 per sqft   \n",
       "2                    Bhuvi By Amsha   ₹1.33 Cr   ₹9541 per sqft   \n",
       "3                      Sai Sunshine  ₹64.7 Lac   ₹5460 per sqft   \n",
       "4                 Candeur Signature  ₹58.2 Lac   ₹9403 per sqft   \n",
       "5                   Bhoomika Elites  ₹51.2 Lac   ₹4600 per sqft   \n",
       "6              Visalakshi Prakruthi    ₹61 Lac   ₹5985 per sqft   \n",
       "7                     Mana Capitol   ₹98.9 Lac   ₹6800 per sqft   \n",
       "8                        AV Sunrise  ₹58.7 Lac   ₹4600 per sqft   \n",
       "9                    Fortuna Acacia  ₹95.3 Lac   ₹8667 per sqft   \n",
       "10                 HM Tropical Tree   ₹2.58 Cr  ₹12000 per sqft   \n",
       "11                   Kumar Prospera   ₹1.11 Cr   ₹7604 per sqft   \n",
       "12                     Meda Greens   ₹73.2 Lac   ₹5999 per sqft   \n",
       "13                     Aparna Maple    ₹98 Lac   ₹6980 per sqft   \n",
       "14                  Bollineni Astra  ₹95.2 Lac   ₹6242 per sqft   \n",
       "15             Adarsh Green Phase 2  ₹49.4 Lac   ₹5168 per sqft   \n",
       "16               Mahaveer Turquoise  ₹28.9 Lac   ₹5468 per sqft   \n",
       "17                   Global Celesta  ₹32.4 Lac   ₹3523 per sqft   \n",
       "18              Abhee Silicon Shine  ₹73.4 Lac   ₹6067 per sqft   \n",
       "19                   SB Temple Tree   ₹1.09 Cr   ₹7539 per sqft   \n",
       "20                    GRC Subhiksha  ₹45.6 Lac   ₹6612 per sqft   \n",
       "21                        GR Sitara    ₹90 Lac   ₹5489 per sqft   \n",
       "22            Mathapathi Brundaavan  ₹77.9 Lac   ₹6180 per sqft   \n",
       "23               Signature Splendor  ₹40.9 Lac   ₹3952 per sqft   \n",
       "24                   Rain bow Haven  ₹65.7 Lac   ₹5763 per sqft   \n",
       "25  The Prestige City Meridian Park   ₹1.14 Cr   ₹6847 per sqft   \n",
       "26                   Sattva Ashraya  ₹24.7 Lac   ₹4748 per sqft   \n",
       "27                ICON Happy Living    ₹36 Lac   ₹5341 per sqft   \n",
       "28                    Jampa Luxuria   ₹2.97 Cr   ₹7250 per sqft   \n",
       "29                    DSMAX Skycity   ₹1.21 Cr   ₹6000 per sqft   \n",
       "\n",
       "                                                 Data  \n",
       "0   This property embraces 19.37 acres of land dis...  \n",
       "1   Bavisha Gardenia is a new Creation defining ur...  \n",
       "2   A Home Where Everything is a Blessing. A premi...  \n",
       "3   Sree Sai Sunshine which has Apartments at Whit...  \n",
       "4   Candeur signature is emerging as the hub for l...  \n",
       "5   The Project is Consisting of 1.5 Acre Land Lux...  \n",
       "6   Strategically located at Thanisandra, the resi...  \n",
       "7   Mana Capitol enables the young generation toda...  \n",
       "8   AV Sunrise is a premium residential project lo...  \n",
       "9   This Residential property ensures to cater to ...  \n",
       "10  With proximity to Bengaluru International Airp...  \n",
       "11  Rise above the rest with sprawling views of th...  \n",
       "12  This project can also be considered for invest...  \n",
       "13  Located in the heart of North Bengaluru at K.N...  \n",
       "14  Where each of the apartments bear the impeccab...  \n",
       "15  Adarsh Greens Phase 2 by Adarsh Developers is ...  \n",
       "16  Find your dream home at Mahaveer Turquoise, sp...  \n",
       "17  Celesta, by Global Edifice Developers & Builde...  \n",
       "18  Abhee Silicon Shine will bring shine into your...  \n",
       "19  Located at Bommanahalli,Begur Hobli, Bangalore...  \n",
       "20  Subhiksha apartments is one of a kind investme...  \n",
       "21  Just make your wish list and compare it with t...  \n",
       "22  Home is deepest desires with valued features, ...  \n",
       "23  Signature Splendor Township is nestled beside ...  \n",
       "24  Located in JP Nagar Phase 7, within a sprawlin...  \n",
       "25  It presents a fully equipped array of faciliti...  \n",
       "26  Set in 4.2 acres of land, Ashraya is a conglom...  \n",
       "27  Located in one of the largest IT Hub of Bangal...  \n",
       "28  4 Floors luxurious apartment with BBMP approva...  \n",
       "29  Presenting the marvelous creation which will r...  "
      ]
     },
     "execution_count": 21,
     "metadata": {},
     "output_type": "execute_result"
    }
   ],
   "source": [
    "Magic_Brick"
   ]
  },
  {
   "cell_type": "markdown",
   "id": "1065eb70",
   "metadata": {},
   "source": [
    "# Common floors \n",
    "![image](https://i.imgur.com/IUttEWU.png)"
   ]
  },
  {
   "cell_type": "code",
   "execution_count": 22,
   "id": "4de5852d",
   "metadata": {},
   "outputs": [],
   "source": [
    "url='https://www.commonfloor.com/listing-search?city=Bangalore&cg=Bangalore%20division&iscg=&search_intent=sale&polygon=1&page=1&page_size=30'"
   ]
  },
  {
   "cell_type": "code",
   "execution_count": 23,
   "id": "2830d5fb",
   "metadata": {},
   "outputs": [
    {
     "name": "stdout",
     "output_type": "stream",
     "text": [
      "Pass\n"
     ]
    }
   ],
   "source": [
    "response (url)"
   ]
  },
  {
   "cell_type": "code",
   "execution_count": 24,
   "id": "4494bc39",
   "metadata": {},
   "outputs": [],
   "source": [
    "Soup = soup (url)"
   ]
  },
  {
   "cell_type": "code",
   "execution_count": 25,
   "id": "9ed586f0",
   "metadata": {},
   "outputs": [],
   "source": [
    "#result item (starting point)\n",
    "list_items = Soup.find_all('div',{'class':'snb-tile-info'})"
   ]
  },
  {
   "cell_type": "code",
   "execution_count": 26,
   "id": "83c93a67",
   "metadata": {},
   "outputs": [
    {
     "data": {
      "text/plain": [
       "'Plot for Sale in Jigini Anekal Road'"
      ]
     },
     "execution_count": 26,
     "metadata": {},
     "output_type": "execute_result"
    }
   ],
   "source": [
    "#Title\n",
    "list_items[0].find_all('a')[1].get_text() "
   ]
  },
  {
   "cell_type": "code",
   "execution_count": 27,
   "id": "b2e345ce",
   "metadata": {},
   "outputs": [
    {
     "data": {
      "text/plain": [
       "'Jigini Anekal Road'"
      ]
     },
     "execution_count": 27,
     "metadata": {},
     "output_type": "execute_result"
    }
   ],
   "source": [
    "#Project\n",
    "list_items[0].find_all('a')[2].get_text() "
   ]
  },
  {
   "cell_type": "code",
   "execution_count": 28,
   "id": "d3031fa2",
   "metadata": {},
   "outputs": [
    {
     "data": {
      "text/plain": [
       "' (111.48 sq.m)'"
      ]
     },
     "execution_count": 28,
     "metadata": {},
     "output_type": "execute_result"
    }
   ],
   "source": [
    "#Area\n",
    "list_items[0].find('small',{'class':'smtext'}).get_text() "
   ]
  },
  {
   "cell_type": "code",
   "execution_count": 29,
   "id": "0c191e29",
   "metadata": {},
   "outputs": [
    {
     "data": {
      "text/plain": [
       "' 23.99 L         '"
      ]
     },
     "execution_count": 29,
     "metadata": {},
     "output_type": "execute_result"
    }
   ],
   "source": [
    "#Area\n",
    "list_items[0].find('span').get_text().replace('\\n','')"
   ]
  },
  {
   "cell_type": "code",
   "execution_count": 30,
   "id": "fa6310c0",
   "metadata": {},
   "outputs": [
    {
     "data": {
      "text/plain": [
       "' 23.99 L         '"
      ]
     },
     "execution_count": 30,
     "metadata": {},
     "output_type": "execute_result"
    }
   ],
   "source": [
    "list_items[0].find('div',{'class':'p_section'}).find('span',{'class':'s_p'}).get_text().replace('\\n','')"
   ]
  },
  {
   "cell_type": "code",
   "execution_count": 31,
   "id": "c41643aa",
   "metadata": {},
   "outputs": [
    {
     "data": {
      "text/plain": [
       "' 1999 per sq.ft. Plot Area'"
      ]
     },
     "execution_count": 31,
     "metadata": {},
     "output_type": "execute_result"
    }
   ],
   "source": [
    "list_items[0].find('div',{'class':'s_psft'}).get_text() \n"
   ]
  },
  {
   "cell_type": "code",
   "execution_count": 34,
   "id": "11609e0b",
   "metadata": {},
   "outputs": [],
   "source": [
    "# creating list\n",
    "Title =[result.find_all('a')[1].get_text() for result in list_items]\n",
    "Project = [result.find_all('a')[2].get_text() for result in list_items]\n",
    "#Area = [result.find('small',{'class':'smtext'}).get_text() for result in list_items]\n",
    "vary = [result.find('span').get_text().replace('\\n','') for result in list_items]\n",
    "Cost = [result.find('div',{'class':'p_section'}).find('span',{'class':'s_p'}).get_text().replace('\\n','') for result in list_items]\n",
    "Cost_sft = [result.find('div',{'class':'s_psft'}).get_text() for result in list_items]"
   ]
  },
  {
   "cell_type": "code",
   "execution_count": 35,
   "id": "f1a0962b",
   "metadata": {},
   "outputs": [],
   "source": [
    "Common = df({'Title': Title, 'Project':Project, 'Cost':Cost, 'Cost per Sqft':Cost_sft, 'Data':vary})"
   ]
  },
  {
   "cell_type": "code",
   "execution_count": 36,
   "id": "8d6b85ef",
   "metadata": {},
   "outputs": [
    {
     "data": {
      "text/html": [
       "<div>\n",
       "<style scoped>\n",
       "    .dataframe tbody tr th:only-of-type {\n",
       "        vertical-align: middle;\n",
       "    }\n",
       "\n",
       "    .dataframe tbody tr th {\n",
       "        vertical-align: top;\n",
       "    }\n",
       "\n",
       "    .dataframe thead th {\n",
       "        text-align: right;\n",
       "    }\n",
       "</style>\n",
       "<table border=\"1\" class=\"dataframe\">\n",
       "  <thead>\n",
       "    <tr style=\"text-align: right;\">\n",
       "      <th></th>\n",
       "      <th>Title</th>\n",
       "      <th>Project</th>\n",
       "      <th>Cost</th>\n",
       "      <th>Cost per Sqft</th>\n",
       "      <th>Data</th>\n",
       "    </tr>\n",
       "  </thead>\n",
       "  <tbody>\n",
       "    <tr>\n",
       "      <th>0</th>\n",
       "      <td>Plot for Sale in Jigini Anekal Road</td>\n",
       "      <td>Jigini Anekal Road</td>\n",
       "      <td>23.99 L</td>\n",
       "      <td>1999 per sq.ft. Plot Area</td>\n",
       "      <td>23.99 L</td>\n",
       "    </tr>\n",
       "    <tr>\n",
       "      <th>1</th>\n",
       "      <td>Not Furnished 2 BHK Apartment for Sale in Kann...</td>\n",
       "      <td>Dwarakamai Apex 3 Apartments</td>\n",
       "      <td>57.75 L</td>\n",
       "      <td>6875 per sq.ft. Carpet Area</td>\n",
       "      <td>,</td>\n",
       "    </tr>\n",
       "    <tr>\n",
       "      <th>2</th>\n",
       "      <td>Semi Furnished 3BHK Apartment for Sale in Hebbal</td>\n",
       "      <td>Brigade Laguna</td>\n",
       "      <td>1.50 Cr</td>\n",
       "      <td>9659 per sq.ft. Carpet Area</td>\n",
       "      <td>,</td>\n",
       "    </tr>\n",
       "    <tr>\n",
       "      <th>3</th>\n",
       "      <td>Not Furnished 1 BHK Apartment for Sale in Bela...</td>\n",
       "      <td>Green Prime Manshion</td>\n",
       "      <td>17.12 L</td>\n",
       "      <td>4127 per sq.ft. Carpet Area</td>\n",
       "      <td>,</td>\n",
       "    </tr>\n",
       "    <tr>\n",
       "      <th>4</th>\n",
       "      <td>Plot for Sale in Devanahalli</td>\n",
       "      <td>Devanahalli</td>\n",
       "      <td>Call For Price</td>\n",
       "      <td>per sq.ft. Plot Area</td>\n",
       "      <td>Call For Price</td>\n",
       "    </tr>\n",
       "    <tr>\n",
       "      <th>5</th>\n",
       "      <td>Plot for Sale in Chandapura</td>\n",
       "      <td>JR Green Park</td>\n",
       "      <td>48 L</td>\n",
       "      <td>4000 per sq.ft. Plot Area</td>\n",
       "      <td>,</td>\n",
       "    </tr>\n",
       "    <tr>\n",
       "      <th>6</th>\n",
       "      <td>Plot for Sale in Chandapura</td>\n",
       "      <td>JR Green Park</td>\n",
       "      <td>1.10 Cr</td>\n",
       "      <td>4600 per sq.ft. Plot Area</td>\n",
       "      <td>,</td>\n",
       "    </tr>\n",
       "    <tr>\n",
       "      <th>7</th>\n",
       "      <td>Semi Furnished 4BHK Apartment for Sale in Asho...</td>\n",
       "      <td>Prestige Kingfisher Towers</td>\n",
       "      <td>27 Cr</td>\n",
       "      <td>32143 per sq.ft. Carpet Area</td>\n",
       "      <td>,</td>\n",
       "    </tr>\n",
       "    <tr>\n",
       "      <th>8</th>\n",
       "      <td>Semi Furnished 4BHK Apartment for Sale in Ulsoor</td>\n",
       "      <td>Prestige Hermitage</td>\n",
       "      <td>17 Cr</td>\n",
       "      <td>22667 per sq.ft. Carpet Area</td>\n",
       "      <td>,</td>\n",
       "    </tr>\n",
       "    <tr>\n",
       "      <th>9</th>\n",
       "      <td>Semi Furnished 3BHK Apartment for Sale in Kana...</td>\n",
       "      <td>Total Environment The Magic Faraway Tree Phase II</td>\n",
       "      <td>2.50 Cr</td>\n",
       "      <td>9081 per sq.ft. Carpet Area</td>\n",
       "      <td>,</td>\n",
       "    </tr>\n",
       "    <tr>\n",
       "      <th>10</th>\n",
       "      <td>Semi Furnished 3BHK Apartment for Sale in Cunn...</td>\n",
       "      <td>Prestige Kenilworth</td>\n",
       "      <td>7.90 Cr</td>\n",
       "      <td>21644 per sq.ft. Carpet Area</td>\n",
       "      <td>,</td>\n",
       "    </tr>\n",
       "    <tr>\n",
       "      <th>11</th>\n",
       "      <td>Semi Furnished 3BHK Apartment for Sale in Bell...</td>\n",
       "      <td>Purva Zenium</td>\n",
       "      <td>1.20 Cr</td>\n",
       "      <td>6667 per sq.ft. Carpet Area</td>\n",
       "      <td>,</td>\n",
       "    </tr>\n",
       "    <tr>\n",
       "      <th>12</th>\n",
       "      <td>Semi Furnished 4BHK Apartment for Sale in Mall...</td>\n",
       "      <td>Mantri Centrium</td>\n",
       "      <td>6 Cr</td>\n",
       "      <td>13333 per sq.ft. Carpet Area</td>\n",
       "      <td>,</td>\n",
       "    </tr>\n",
       "    <tr>\n",
       "      <th>13</th>\n",
       "      <td>Semi Furnished 4BHK Apartment for Sale in Vasa...</td>\n",
       "      <td>Legacy Cataleya</td>\n",
       "      <td>9 Cr</td>\n",
       "      <td>17647 per sq.ft. Carpet Area</td>\n",
       "      <td>,</td>\n",
       "    </tr>\n",
       "    <tr>\n",
       "      <th>14</th>\n",
       "      <td>Semi Furnished 4BHK Villa for Sale in Old Madr...</td>\n",
       "      <td>Sattva Kings Domain</td>\n",
       "      <td>5.90 Cr</td>\n",
       "      <td>13111 per sq.ft. Carpet Area</td>\n",
       "      <td>,</td>\n",
       "    </tr>\n",
       "    <tr>\n",
       "      <th>15</th>\n",
       "      <td>Semi Furnished 4BHK Apartment for Sale in Lalb...</td>\n",
       "      <td>Purva Orient Grand</td>\n",
       "      <td>10 Cr</td>\n",
       "      <td>30120 per sq.ft. Carpet Area</td>\n",
       "      <td>,</td>\n",
       "    </tr>\n",
       "    <tr>\n",
       "      <th>16</th>\n",
       "      <td>Semi Furnished 2.5BHK Apartment for Sale in Be...</td>\n",
       "      <td>Purva Zenium</td>\n",
       "      <td>83 L</td>\n",
       "      <td>6495 per sq.ft. Carpet Area</td>\n",
       "      <td>,</td>\n",
       "    </tr>\n",
       "    <tr>\n",
       "      <th>17</th>\n",
       "      <td>Semi Furnished 4BHK Apartment for Sale in Shan...</td>\n",
       "      <td>Mantri Blossom</td>\n",
       "      <td>5 Cr</td>\n",
       "      <td>12987 per sq.ft. Carpet Area</td>\n",
       "      <td>,</td>\n",
       "    </tr>\n",
       "    <tr>\n",
       "      <th>18</th>\n",
       "      <td>Semi Furnished 4BHK Apartment for Sale in Lalb...</td>\n",
       "      <td>Purva Orient Grand</td>\n",
       "      <td>5.90 Cr</td>\n",
       "      <td>27315 per sq.ft. Carpet Area</td>\n",
       "      <td>,</td>\n",
       "    </tr>\n",
       "    <tr>\n",
       "      <th>19</th>\n",
       "      <td>Semi Furnished 4BHK Villa for Sale in Yelahanka</td>\n",
       "      <td>True Blue Napa Valley</td>\n",
       "      <td>6 Cr</td>\n",
       "      <td>14907 per sq.ft. Carpet Area</td>\n",
       "      <td>,</td>\n",
       "    </tr>\n",
       "    <tr>\n",
       "      <th>20</th>\n",
       "      <td>Semi Furnished 3BHK Apartment for Sale in Hebbal</td>\n",
       "      <td>SNN Clermont</td>\n",
       "      <td>3 Cr</td>\n",
       "      <td>11450 per sq.ft. Carpet Area</td>\n",
       "      <td>,</td>\n",
       "    </tr>\n",
       "    <tr>\n",
       "      <th>21</th>\n",
       "      <td>Semi Furnished 4BHK Apartment for Sale in Mall...</td>\n",
       "      <td>Sattva Luxuria</td>\n",
       "      <td>6 Cr</td>\n",
       "      <td>14440 per sq.ft. Carpet Area</td>\n",
       "      <td>,</td>\n",
       "    </tr>\n",
       "    <tr>\n",
       "      <th>22</th>\n",
       "      <td>Semi Furnished 3BHK Apartment for Sale in Rich...</td>\n",
       "      <td>White Lotus Ohana</td>\n",
       "      <td>4.80 Cr</td>\n",
       "      <td>18706 per sq.ft. Carpet Area</td>\n",
       "      <td>,</td>\n",
       "    </tr>\n",
       "    <tr>\n",
       "      <th>23</th>\n",
       "      <td>Semi Furnished 3BHK Apartment for Sale in Doll...</td>\n",
       "      <td>Prestige Fairfield</td>\n",
       "      <td>2.25 Cr</td>\n",
       "      <td>10938 per sq.ft. Carpet Area</td>\n",
       "      <td>,</td>\n",
       "    </tr>\n",
       "    <tr>\n",
       "      <th>24</th>\n",
       "      <td>Semi Furnished 4BHK Villa for Sale in Bannergh...</td>\n",
       "      <td>Purva Smiling Willows</td>\n",
       "      <td>5 Cr</td>\n",
       "      <td>10267 per sq.ft. Carpet Area</td>\n",
       "      <td>,</td>\n",
       "    </tr>\n",
       "    <tr>\n",
       "      <th>25</th>\n",
       "      <td>4BHK Apartment for Sale in Dollars Colony</td>\n",
       "      <td>Prestige Fairfield</td>\n",
       "      <td>3.20 Cr</td>\n",
       "      <td>10940 per sq.ft. Carpet Area</td>\n",
       "      <td>,</td>\n",
       "    </tr>\n",
       "    <tr>\n",
       "      <th>26</th>\n",
       "      <td>Semi Furnished 4BHK Villa for Sale in Whitefield</td>\n",
       "      <td>NVT Stopping by the Woods</td>\n",
       "      <td>3.90 Cr</td>\n",
       "      <td>9726 per sq.ft. Carpet Area</td>\n",
       "      <td>,</td>\n",
       "    </tr>\n",
       "    <tr>\n",
       "      <th>27</th>\n",
       "      <td>Semi Furnished 3BHK Villa for Sale in Bannergh...</td>\n",
       "      <td>Purva Smiling Willows</td>\n",
       "      <td>3 Cr</td>\n",
       "      <td>9987 per sq.ft. Carpet Area</td>\n",
       "      <td>,</td>\n",
       "    </tr>\n",
       "    <tr>\n",
       "      <th>28</th>\n",
       "      <td>Semi Furnished 4BHK Apartment for Sale in Jakkur</td>\n",
       "      <td>Legacy Cirocco</td>\n",
       "      <td>5 Cr</td>\n",
       "      <td>8547 per sq.ft. Carpet Area</td>\n",
       "      <td>,</td>\n",
       "    </tr>\n",
       "    <tr>\n",
       "      <th>29</th>\n",
       "      <td>Semi Furnished 3BHK Villa for Sale in Yelahanka</td>\n",
       "      <td>True Blue Napa Valley</td>\n",
       "      <td>4.50 Cr</td>\n",
       "      <td>16593 per sq.ft. Carpet Area</td>\n",
       "      <td>,</td>\n",
       "    </tr>\n",
       "  </tbody>\n",
       "</table>\n",
       "</div>"
      ],
      "text/plain": [
       "                                                Title  \\\n",
       "0                 Plot for Sale in Jigini Anekal Road   \n",
       "1   Not Furnished 2 BHK Apartment for Sale in Kann...   \n",
       "2    Semi Furnished 3BHK Apartment for Sale in Hebbal   \n",
       "3   Not Furnished 1 BHK Apartment for Sale in Bela...   \n",
       "4                        Plot for Sale in Devanahalli   \n",
       "5                         Plot for Sale in Chandapura   \n",
       "6                         Plot for Sale in Chandapura   \n",
       "7   Semi Furnished 4BHK Apartment for Sale in Asho...   \n",
       "8    Semi Furnished 4BHK Apartment for Sale in Ulsoor   \n",
       "9   Semi Furnished 3BHK Apartment for Sale in Kana...   \n",
       "10  Semi Furnished 3BHK Apartment for Sale in Cunn...   \n",
       "11  Semi Furnished 3BHK Apartment for Sale in Bell...   \n",
       "12  Semi Furnished 4BHK Apartment for Sale in Mall...   \n",
       "13  Semi Furnished 4BHK Apartment for Sale in Vasa...   \n",
       "14  Semi Furnished 4BHK Villa for Sale in Old Madr...   \n",
       "15  Semi Furnished 4BHK Apartment for Sale in Lalb...   \n",
       "16  Semi Furnished 2.5BHK Apartment for Sale in Be...   \n",
       "17  Semi Furnished 4BHK Apartment for Sale in Shan...   \n",
       "18  Semi Furnished 4BHK Apartment for Sale in Lalb...   \n",
       "19    Semi Furnished 4BHK Villa for Sale in Yelahanka   \n",
       "20   Semi Furnished 3BHK Apartment for Sale in Hebbal   \n",
       "21  Semi Furnished 4BHK Apartment for Sale in Mall...   \n",
       "22  Semi Furnished 3BHK Apartment for Sale in Rich...   \n",
       "23  Semi Furnished 3BHK Apartment for Sale in Doll...   \n",
       "24  Semi Furnished 4BHK Villa for Sale in Bannergh...   \n",
       "25          4BHK Apartment for Sale in Dollars Colony   \n",
       "26   Semi Furnished 4BHK Villa for Sale in Whitefield   \n",
       "27  Semi Furnished 3BHK Villa for Sale in Bannergh...   \n",
       "28   Semi Furnished 4BHK Apartment for Sale in Jakkur   \n",
       "29    Semi Furnished 3BHK Villa for Sale in Yelahanka   \n",
       "\n",
       "                                              Project  \\\n",
       "0                                  Jigini Anekal Road   \n",
       "1                        Dwarakamai Apex 3 Apartments   \n",
       "2                                      Brigade Laguna   \n",
       "3                                Green Prime Manshion   \n",
       "4                                         Devanahalli   \n",
       "5                                       JR Green Park   \n",
       "6                                       JR Green Park   \n",
       "7                          Prestige Kingfisher Towers   \n",
       "8                                  Prestige Hermitage   \n",
       "9   Total Environment The Magic Faraway Tree Phase II   \n",
       "10                                Prestige Kenilworth   \n",
       "11                                       Purva Zenium   \n",
       "12                                    Mantri Centrium   \n",
       "13                                    Legacy Cataleya   \n",
       "14                                Sattva Kings Domain   \n",
       "15                                 Purva Orient Grand   \n",
       "16                                       Purva Zenium   \n",
       "17                                     Mantri Blossom   \n",
       "18                                 Purva Orient Grand   \n",
       "19                              True Blue Napa Valley   \n",
       "20                                       SNN Clermont   \n",
       "21                                     Sattva Luxuria   \n",
       "22                                  White Lotus Ohana   \n",
       "23                                 Prestige Fairfield   \n",
       "24                              Purva Smiling Willows   \n",
       "25                                 Prestige Fairfield   \n",
       "26                          NVT Stopping by the Woods   \n",
       "27                              Purva Smiling Willows   \n",
       "28                                     Legacy Cirocco   \n",
       "29                              True Blue Napa Valley   \n",
       "\n",
       "                                Cost                  Cost per Sqft  \\\n",
       "0                   23.99 L               1999 per sq.ft. Plot Area   \n",
       "1                   57.75 L             6875 per sq.ft. Carpet Area   \n",
       "2                   1.50 Cr             9659 per sq.ft. Carpet Area   \n",
       "3                   17.12 L             4127 per sq.ft. Carpet Area   \n",
       "4             Call For Price                   per sq.ft. Plot Area   \n",
       "5                      48 L               4000 per sq.ft. Plot Area   \n",
       "6                   1.10 Cr               4600 per sq.ft. Plot Area   \n",
       "7                     27 Cr            32143 per sq.ft. Carpet Area   \n",
       "8                     17 Cr            22667 per sq.ft. Carpet Area   \n",
       "9                   2.50 Cr             9081 per sq.ft. Carpet Area   \n",
       "10                  7.90 Cr            21644 per sq.ft. Carpet Area   \n",
       "11                  1.20 Cr             6667 per sq.ft. Carpet Area   \n",
       "12                     6 Cr            13333 per sq.ft. Carpet Area   \n",
       "13                     9 Cr            17647 per sq.ft. Carpet Area   \n",
       "14                  5.90 Cr            13111 per sq.ft. Carpet Area   \n",
       "15                    10 Cr            30120 per sq.ft. Carpet Area   \n",
       "16                     83 L             6495 per sq.ft. Carpet Area   \n",
       "17                     5 Cr            12987 per sq.ft. Carpet Area   \n",
       "18                  5.90 Cr            27315 per sq.ft. Carpet Area   \n",
       "19                     6 Cr            14907 per sq.ft. Carpet Area   \n",
       "20                     3 Cr            11450 per sq.ft. Carpet Area   \n",
       "21                     6 Cr            14440 per sq.ft. Carpet Area   \n",
       "22                  4.80 Cr            18706 per sq.ft. Carpet Area   \n",
       "23                  2.25 Cr            10938 per sq.ft. Carpet Area   \n",
       "24                     5 Cr            10267 per sq.ft. Carpet Area   \n",
       "25                  3.20 Cr            10940 per sq.ft. Carpet Area   \n",
       "26                  3.90 Cr             9726 per sq.ft. Carpet Area   \n",
       "27                     3 Cr             9987 per sq.ft. Carpet Area   \n",
       "28                     5 Cr             8547 per sq.ft. Carpet Area   \n",
       "29                  4.50 Cr            16593 per sq.ft. Carpet Area   \n",
       "\n",
       "                                Data  \n",
       "0                   23.99 L           \n",
       "1                                  ,  \n",
       "2                                  ,  \n",
       "3                                  ,  \n",
       "4             Call For Price          \n",
       "5                                  ,  \n",
       "6                                  ,  \n",
       "7                                  ,  \n",
       "8                                  ,  \n",
       "9                                  ,  \n",
       "10                                 ,  \n",
       "11                                 ,  \n",
       "12                                 ,  \n",
       "13                                 ,  \n",
       "14                                 ,  \n",
       "15                                 ,  \n",
       "16                                 ,  \n",
       "17                                 ,  \n",
       "18                                 ,  \n",
       "19                                 ,  \n",
       "20                                 ,  \n",
       "21                                 ,  \n",
       "22                                 ,  \n",
       "23                                 ,  \n",
       "24                                 ,  \n",
       "25                                 ,  \n",
       "26                                 ,  \n",
       "27                                 ,  \n",
       "28                                 ,  \n",
       "29                                 ,  "
      ]
     },
     "execution_count": 36,
     "metadata": {},
     "output_type": "execute_result"
    }
   ],
   "source": [
    "Common"
   ]
  },
  {
   "cell_type": "markdown",
   "id": "adcc0cb2",
   "metadata": {},
   "source": [
    "# HOUSING.COM\n",
    "![image](https://i.imgur.com/FR954nY.png)"
   ]
  },
  {
   "cell_type": "code",
   "execution_count": 37,
   "id": "c11febb0",
   "metadata": {},
   "outputs": [],
   "source": [
    "url='https://housing.com/in/buy/searches/P38f9yfbk7p3m2h1f'"
   ]
  },
  {
   "cell_type": "code",
   "execution_count": 38,
   "id": "a192596c",
   "metadata": {},
   "outputs": [
    {
     "name": "stdout",
     "output_type": "stream",
     "text": [
      "Pass\n"
     ]
    }
   ],
   "source": [
    "response (url)"
   ]
  },
  {
   "cell_type": "code",
   "execution_count": 39,
   "id": "61e1299e",
   "metadata": {},
   "outputs": [],
   "source": [
    "Soup = soup (url)"
   ]
  },
  {
   "cell_type": "code",
   "execution_count": 40,
   "id": "ebc46da4",
   "metadata": {},
   "outputs": [],
   "source": [
    "#result item (starting point)\n",
    "list_items = Soup.find_all('article',{'class':'css-1nr7r9e'})"
   ]
  },
  {
   "cell_type": "code",
   "execution_count": 41,
   "id": "d589a695",
   "metadata": {},
   "outputs": [
    {
     "data": {
      "text/plain": [
       "20"
      ]
     },
     "execution_count": 41,
     "metadata": {},
     "output_type": "execute_result"
    }
   ],
   "source": [
    "len(list_items)"
   ]
  },
  {
   "cell_type": "code",
   "execution_count": 42,
   "id": "44f7b1eb",
   "metadata": {},
   "outputs": [
    {
     "data": {
      "text/plain": [
       "'Sai Prakruthi Gardeniaa'"
      ]
     },
     "execution_count": 42,
     "metadata": {},
     "output_type": "execute_result"
    }
   ],
   "source": [
    "#Title\n",
    "list_items[0].find('div',{'class':'css-2rx1iy'}).find('a').get_text() "
   ]
  },
  {
   "cell_type": "code",
   "execution_count": 43,
   "id": "b77aee4e",
   "metadata": {},
   "outputs": [
    {
     "data": {
      "text/plain": [
       "'₹62 L - 93 L'"
      ]
     },
     "execution_count": 43,
     "metadata": {},
     "output_type": "execute_result"
    }
   ],
   "source": [
    "#Cost\n",
    "list_items[0].find('div',{'class':'css-18rodr0'}).get_text()"
   ]
  },
  {
   "cell_type": "code",
   "execution_count": 44,
   "id": "e64b9e2e",
   "metadata": {},
   "outputs": [
    {
     "data": {
      "text/plain": [
       "'Residential Plots for sale in Kogilu, Bangalore'"
      ]
     },
     "execution_count": 44,
     "metadata": {},
     "output_type": "execute_result"
    }
   ],
   "source": [
    "#Property\n",
    "list_items[0].find('h3',{'class':'css-197fqpq'}).get_text()"
   ]
  },
  {
   "cell_type": "code",
   "execution_count": 45,
   "id": "a8df1765",
   "metadata": {},
   "outputs": [
    {
     "data": {
      "text/plain": [
       "'Kogilu,North Bangalore,Bangalore'"
      ]
     },
     "execution_count": 45,
     "metadata": {},
     "output_type": "execute_result"
    }
   ],
   "source": [
    "#Address\n",
    "list_items[0].find('div',{'class':'css-4in8py'}).get_text()"
   ]
  },
  {
   "cell_type": "code",
   "execution_count": 46,
   "id": "d9a42d5c",
   "metadata": {},
   "outputs": [
    {
     "data": {
      "text/plain": [
       "'₹6.20 K/sq.ft'"
      ]
     },
     "execution_count": 46,
     "metadata": {},
     "output_type": "execute_result"
    }
   ],
   "source": [
    "#Cost per sqft\n",
    "list_items[0].find_all('div',{'class':'css-4z3njv'})[1].get_text()"
   ]
  },
  {
   "cell_type": "code",
   "execution_count": 47,
   "id": "6a568f7e",
   "metadata": {},
   "outputs": [
    {
     "data": {
      "text/plain": [
       "'Sai Akshaya Ventures'"
      ]
     },
     "execution_count": 47,
     "metadata": {},
     "output_type": "execute_result"
    }
   ],
   "source": [
    "#Project\n",
    "list_items[0].find('div',{'class':'css-wni7av'}).get_text()"
   ]
  },
  {
   "cell_type": "code",
   "execution_count": 48,
   "id": "1f356e2b",
   "metadata": {},
   "outputs": [],
   "source": [
    "# creating list\n",
    "Title =[result.find('div',{'class':'css-2rx1iy'}).find('a').get_text()for result in list_items]\n",
    "Cost = [result.find('div',{'class':'css-18rodr0'}).get_text() for result in list_items]\n",
    "Project = [result.find('div',{'class':'css-wni7av'}).get_text()for result in list_items]\n",
    "Address = [result.find('div',{'class':'css-4in8py'}).get_text()for result in list_items]\n",
    "#Status = [result.find('div',{'class':'css-4in8py'}).get_text() for result in list_items]\n",
    "Cost_sft = [result.find_all('div',{'class':'css-4z3njv'})[1].get_text()for result in list_items]"
   ]
  },
  {
   "cell_type": "code",
   "execution_count": 49,
   "id": "56492428",
   "metadata": {},
   "outputs": [],
   "source": [
    "Housing = df({'Title': Title, 'Project':Project, 'Cost':Cost, 'Cost per Sqft':Cost_sft, 'Data':Address})"
   ]
  },
  {
   "cell_type": "code",
   "execution_count": 50,
   "id": "5964b2cd",
   "metadata": {},
   "outputs": [
    {
     "data": {
      "text/html": [
       "<div>\n",
       "<style scoped>\n",
       "    .dataframe tbody tr th:only-of-type {\n",
       "        vertical-align: middle;\n",
       "    }\n",
       "\n",
       "    .dataframe tbody tr th {\n",
       "        vertical-align: top;\n",
       "    }\n",
       "\n",
       "    .dataframe thead th {\n",
       "        text-align: right;\n",
       "    }\n",
       "</style>\n",
       "<table border=\"1\" class=\"dataframe\">\n",
       "  <thead>\n",
       "    <tr style=\"text-align: right;\">\n",
       "      <th></th>\n",
       "      <th>Title</th>\n",
       "      <th>Project</th>\n",
       "      <th>Cost</th>\n",
       "      <th>Cost per Sqft</th>\n",
       "      <th>Data</th>\n",
       "    </tr>\n",
       "  </thead>\n",
       "  <tbody>\n",
       "    <tr>\n",
       "      <th>0</th>\n",
       "      <td>Sai Prakruthi Gardeniaa</td>\n",
       "      <td>Sai Akshaya Ventures</td>\n",
       "      <td>₹62 L - 93 L</td>\n",
       "      <td>₹6.20 K/sq.ft</td>\n",
       "      <td>Kogilu,North Bangalore,Bangalore</td>\n",
       "    </tr>\n",
       "    <tr>\n",
       "      <th>1</th>\n",
       "      <td>Godrej Splendour</td>\n",
       "      <td>Godrej Properties Ltd.</td>\n",
       "      <td>₹41.99 L - 89.99 L</td>\n",
       "      <td>₹5.90 K/sq.ft</td>\n",
       "      <td>Whitefield,Bangalore East ,Bangalore</td>\n",
       "    </tr>\n",
       "    <tr>\n",
       "      <th>2</th>\n",
       "      <td>SRI RAMA KUTEERA</td>\n",
       "      <td>Charigan Group</td>\n",
       "      <td>₹20.4 L - 40.8 L</td>\n",
       "      <td>₹1.70 K/sq.ft</td>\n",
       "      <td>Chikkaballapura,North Bangalore,Bangalore</td>\n",
       "    </tr>\n",
       "    <tr>\n",
       "      <th>3</th>\n",
       "      <td>SB Eco Springs</td>\n",
       "      <td>S B Urbanscapes</td>\n",
       "      <td>₹42 L - 84 L</td>\n",
       "      <td>Price on request</td>\n",
       "      <td>Budigere Cross,Budigere Road,Bangalore</td>\n",
       "    </tr>\n",
       "    <tr>\n",
       "      <th>4</th>\n",
       "      <td>Centreo</td>\n",
       "      <td>Property Junction</td>\n",
       "      <td>₹1.38 Cr - 2.04 Cr</td>\n",
       "      <td>₹8.50 K/sq.ft</td>\n",
       "      <td>Kanakapura Road, Bangalore</td>\n",
       "    </tr>\n",
       "    <tr>\n",
       "      <th>5</th>\n",
       "      <td>Sammys Palm Hills</td>\n",
       "      <td>Property Junction</td>\n",
       "      <td>₹17.63 L - 68 L</td>\n",
       "      <td>₹1.70 K/sq.ft</td>\n",
       "      <td>Devanahalli, Bengaluru</td>\n",
       "    </tr>\n",
       "    <tr>\n",
       "      <th>6</th>\n",
       "      <td>Manyata Earthsong By Manyata</td>\n",
       "      <td>Space Properties</td>\n",
       "      <td>₹48.75 L - 1.63 Cr</td>\n",
       "      <td>₹3.25 K/sq.ft</td>\n",
       "      <td>Uganavadi,North Bangalore,Bangalore</td>\n",
       "    </tr>\n",
       "    <tr>\n",
       "      <th>7</th>\n",
       "      <td>Gallium At Brigade El Dorado</td>\n",
       "      <td>Property Junction</td>\n",
       "      <td>₹36 L - 46.08 L</td>\n",
       "      <td>₹4.04 K/sq.ft</td>\n",
       "      <td>Aerospace Park, Bagaluru, Bengaluru</td>\n",
       "    </tr>\n",
       "    <tr>\n",
       "      <th>8</th>\n",
       "      <td>Century Eden</td>\n",
       "      <td>Property Junction</td>\n",
       "      <td>₹77.35 L - 1.14 Cr</td>\n",
       "      <td>₹3.40 K/sq.ft</td>\n",
       "      <td>Bisuvanahalli,North Bangalore,Bangalore</td>\n",
       "    </tr>\n",
       "    <tr>\n",
       "      <th>9</th>\n",
       "      <td>Prestige Finsbury Park Regent</td>\n",
       "      <td>Property Junction</td>\n",
       "      <td>₹70.01 L - 84 L</td>\n",
       "      <td>Price on request</td>\n",
       "      <td>Bagalur, Bengaluru</td>\n",
       "    </tr>\n",
       "    <tr>\n",
       "      <th>10</th>\n",
       "      <td>Prestige Finsbury Park Hyde</td>\n",
       "      <td>Dilip Kumar R</td>\n",
       "      <td>₹55.0 L - 57.53 L</td>\n",
       "      <td>Price on request</td>\n",
       "      <td>Aerospace Park, Bagaluru, Bengaluru</td>\n",
       "    </tr>\n",
       "    <tr>\n",
       "      <th>11</th>\n",
       "      <td>Bavisha Urban Homes Phase II</td>\n",
       "      <td>Bhavisha Properties</td>\n",
       "      <td>Price on Request</td>\n",
       "      <td>Price on request</td>\n",
       "      <td>Sompura Gate, Sarjapur Main Road</td>\n",
       "    </tr>\n",
       "    <tr>\n",
       "      <th>12</th>\n",
       "      <td>Provident Equinox 2</td>\n",
       "      <td>BricksBee Pvt Ltd</td>\n",
       "      <td>₹54.5 L - 65.3 L</td>\n",
       "      <td>₹8.75 K/sq.ft</td>\n",
       "      <td>Mysore Road, Bengaluru</td>\n",
       "    </tr>\n",
       "    <tr>\n",
       "      <th>13</th>\n",
       "      <td>GM Global Techies Town</td>\n",
       "      <td>BricksBee Pvt Ltd</td>\n",
       "      <td>₹59.06 L - 1.1 Cr</td>\n",
       "      <td>Price on request</td>\n",
       "      <td>Bommasandra,South Bangalore,Bangalore</td>\n",
       "    </tr>\n",
       "    <tr>\n",
       "      <th>14</th>\n",
       "      <td>Bollineni Astra</td>\n",
       "      <td>GR Reality Pvt Ltd</td>\n",
       "      <td>₹76.5 L - 1.59 Cr</td>\n",
       "      <td>₹6.38 K/sq.ft</td>\n",
       "      <td>Kogilu,North Bangalore,Bangalore</td>\n",
       "    </tr>\n",
       "    <tr>\n",
       "      <th>15</th>\n",
       "      <td>Prestige Jindal City</td>\n",
       "      <td>Property Junction</td>\n",
       "      <td>₹72 L - 1.24 Cr</td>\n",
       "      <td>Price on request</td>\n",
       "      <td>Tumkur Road, Bengaluru</td>\n",
       "    </tr>\n",
       "    <tr>\n",
       "      <th>16</th>\n",
       "      <td>3 BHK Flat for sale in HBR Layout, Bangalore</td>\n",
       "      <td>Srinidhi</td>\n",
       "      <td>₹1.12 Cr</td>\n",
       "      <td>₹7.52 K/sq.ft</td>\n",
       "      <td>Casagrand Orlena, Ashwath Nagar, HBR Layout,Ba...</td>\n",
       "    </tr>\n",
       "    <tr>\n",
       "      <th>17</th>\n",
       "      <td>3 BHK Flat for sale in Electronic City, Bangalore</td>\n",
       "      <td>Vivek</td>\n",
       "      <td>₹99.9 L</td>\n",
       "      <td>₹6.42 K/sq.ft</td>\n",
       "      <td>SV Grandur, Kammasandra, Electronic City,Banga...</td>\n",
       "    </tr>\n",
       "    <tr>\n",
       "      <th>18</th>\n",
       "      <td>3 BHK Flat for sale in Lingarajapuram, Bangalore</td>\n",
       "      <td>Owais O Vahedna</td>\n",
       "      <td>₹3.5 Cr</td>\n",
       "      <td>₹14.00 K/sq.ft</td>\n",
       "      <td>Ambience Downtown, Joseph Reddy Layout, Lingar...</td>\n",
       "    </tr>\n",
       "    <tr>\n",
       "      <th>19</th>\n",
       "      <td>2 BHK Flat for sale in Horamavu, Bangalore</td>\n",
       "      <td>Pioneer Associates</td>\n",
       "      <td>₹1.29 Cr</td>\n",
       "      <td>₹9.42 K/sq.ft</td>\n",
       "      <td>Prestige Gulmohar, Jayanti Nagar, Horamavu,Ban...</td>\n",
       "    </tr>\n",
       "  </tbody>\n",
       "</table>\n",
       "</div>"
      ],
      "text/plain": [
       "                                                Title  \\\n",
       "0                             Sai Prakruthi Gardeniaa   \n",
       "1                                    Godrej Splendour   \n",
       "2                                    SRI RAMA KUTEERA   \n",
       "3                                      SB Eco Springs   \n",
       "4                                             Centreo   \n",
       "5                                   Sammys Palm Hills   \n",
       "6                        Manyata Earthsong By Manyata   \n",
       "7                        Gallium At Brigade El Dorado   \n",
       "8                                        Century Eden   \n",
       "9                       Prestige Finsbury Park Regent   \n",
       "10                        Prestige Finsbury Park Hyde   \n",
       "11                       Bavisha Urban Homes Phase II   \n",
       "12                                Provident Equinox 2   \n",
       "13                             GM Global Techies Town   \n",
       "14                                    Bollineni Astra   \n",
       "15                               Prestige Jindal City   \n",
       "16       3 BHK Flat for sale in HBR Layout, Bangalore   \n",
       "17  3 BHK Flat for sale in Electronic City, Bangalore   \n",
       "18   3 BHK Flat for sale in Lingarajapuram, Bangalore   \n",
       "19         2 BHK Flat for sale in Horamavu, Bangalore   \n",
       "\n",
       "                    Project                Cost     Cost per Sqft  \\\n",
       "0      Sai Akshaya Ventures        ₹62 L - 93 L     ₹6.20 K/sq.ft   \n",
       "1   Godrej Properties Ltd.   ₹41.99 L - 89.99 L     ₹5.90 K/sq.ft   \n",
       "2            Charigan Group    ₹20.4 L - 40.8 L     ₹1.70 K/sq.ft   \n",
       "3           S B Urbanscapes        ₹42 L - 84 L  Price on request   \n",
       "4         Property Junction  ₹1.38 Cr - 2.04 Cr     ₹8.50 K/sq.ft   \n",
       "5         Property Junction     ₹17.63 L - 68 L     ₹1.70 K/sq.ft   \n",
       "6          Space Properties  ₹48.75 L - 1.63 Cr     ₹3.25 K/sq.ft   \n",
       "7         Property Junction     ₹36 L - 46.08 L     ₹4.04 K/sq.ft   \n",
       "8         Property Junction  ₹77.35 L - 1.14 Cr     ₹3.40 K/sq.ft   \n",
       "9         Property Junction     ₹70.01 L - 84 L  Price on request   \n",
       "10            Dilip Kumar R   ₹55.0 L - 57.53 L  Price on request   \n",
       "11     Bhavisha Properties     Price on Request  Price on request   \n",
       "12        BricksBee Pvt Ltd    ₹54.5 L - 65.3 L     ₹8.75 K/sq.ft   \n",
       "13        BricksBee Pvt Ltd   ₹59.06 L - 1.1 Cr  Price on request   \n",
       "14       GR Reality Pvt Ltd   ₹76.5 L - 1.59 Cr     ₹6.38 K/sq.ft   \n",
       "15        Property Junction     ₹72 L - 1.24 Cr  Price on request   \n",
       "16                 Srinidhi            ₹1.12 Cr     ₹7.52 K/sq.ft   \n",
       "17                    Vivek             ₹99.9 L     ₹6.42 K/sq.ft   \n",
       "18          Owais O Vahedna             ₹3.5 Cr    ₹14.00 K/sq.ft   \n",
       "19       Pioneer Associates            ₹1.29 Cr     ₹9.42 K/sq.ft   \n",
       "\n",
       "                                                 Data  \n",
       "0                    Kogilu,North Bangalore,Bangalore  \n",
       "1                Whitefield,Bangalore East ,Bangalore  \n",
       "2           Chikkaballapura,North Bangalore,Bangalore  \n",
       "3              Budigere Cross,Budigere Road,Bangalore  \n",
       "4                          Kanakapura Road, Bangalore  \n",
       "5                              Devanahalli, Bengaluru  \n",
       "6                 Uganavadi,North Bangalore,Bangalore  \n",
       "7                 Aerospace Park, Bagaluru, Bengaluru  \n",
       "8             Bisuvanahalli,North Bangalore,Bangalore  \n",
       "9                                  Bagalur, Bengaluru  \n",
       "10                Aerospace Park, Bagaluru, Bengaluru  \n",
       "11                   Sompura Gate, Sarjapur Main Road  \n",
       "12                             Mysore Road, Bengaluru  \n",
       "13              Bommasandra,South Bangalore,Bangalore  \n",
       "14                   Kogilu,North Bangalore,Bangalore  \n",
       "15                             Tumkur Road, Bengaluru  \n",
       "16  Casagrand Orlena, Ashwath Nagar, HBR Layout,Ba...  \n",
       "17  SV Grandur, Kammasandra, Electronic City,Banga...  \n",
       "18  Ambience Downtown, Joseph Reddy Layout, Lingar...  \n",
       "19  Prestige Gulmohar, Jayanti Nagar, Horamavu,Ban...  "
      ]
     },
     "execution_count": 50,
     "metadata": {},
     "output_type": "execute_result"
    }
   ],
   "source": [
    "Housing"
   ]
  },
  {
   "cell_type": "markdown",
   "id": "fd60b1c3",
   "metadata": {},
   "source": [
    "# No Broker\n",
    "![image](https://i.imgur.com/AiadLc5.jpg)"
   ]
  },
  {
   "cell_type": "code",
   "execution_count": 79,
   "id": "f40868ca",
   "metadata": {},
   "outputs": [],
   "source": [
    "url= 'https://www.nobroker.in/property/sale/bangalore/multiple?searchParam=W3sibGF0IjoxMi44OTk2Njc2LCJsb24iOjc3LjQ4MjY4MzcsInBsYWNlSWQiOiJDaElKdDlJVHlUQV9yanNSb3N5SnpFN0p1LWsiLCJwbGFjZU5hbWUiOiJLZW5nZXJpIn0seyJsYXQiOjEyLjg3OTQwMDgsImxvbiI6NzcuNDQ1MTMxNjk5OTk5OTksInBsYWNlSWQiOiJDaElKMFE3Z1JaazRyanNSVE5pUkRGdEd0eU0iLCJwbGFjZU5hbWUiOiJLdW1iYWxnb2R1In1d&radius=2.0&city=bangalore&locality[0]=Kengeri,&locality[1]=Kumbalgodu&propType=AP&type=RK1,BHK1,BHK2,BHK3,BHK4,BHK4PLUS'"
   ]
  },
  {
   "cell_type": "code",
   "execution_count": 80,
   "id": "5f5bd9d1",
   "metadata": {},
   "outputs": [
    {
     "name": "stdout",
     "output_type": "stream",
     "text": [
      "Pass\n"
     ]
    }
   ],
   "source": [
    "response (url)"
   ]
  },
  {
   "cell_type": "code",
   "execution_count": 81,
   "id": "061198f4",
   "metadata": {},
   "outputs": [],
   "source": [
    "Soup = soup (url)"
   ]
  },
  {
   "cell_type": "code",
   "execution_count": 82,
   "id": "9a85c80c",
   "metadata": {},
   "outputs": [],
   "source": [
    "#result item (starting point)\n",
    "list_items = Soup.find_all('span',{'itemprop':'itemListElement'})"
   ]
  },
  {
   "cell_type": "code",
   "execution_count": 83,
   "id": "01904575",
   "metadata": {},
   "outputs": [
    {
     "data": {
      "text/plain": [
       "50"
      ]
     },
     "execution_count": 83,
     "metadata": {},
     "output_type": "execute_result"
    }
   ],
   "source": [
    "len(list_items)"
   ]
  },
  {
   "cell_type": "code",
   "execution_count": 84,
   "id": "f462fe79",
   "metadata": {},
   "outputs": [
    {
     "data": {
      "text/plain": [
       "'2 BHK Flat  For Sale  In Vaishnodevi Excelsior In Kumbalgodu'"
      ]
     },
     "execution_count": 84,
     "metadata": {},
     "output_type": "execute_result"
    }
   ],
   "source": [
    "#Title\n",
    "list_items[0].find('span',{'class':'overflow-hidden overflow-ellipsis whitespace-nowrap max-w-80pe po:max-w-full'}).get_text() "
   ]
  },
  {
   "cell_type": "code",
   "execution_count": 85,
   "id": "b718094a",
   "metadata": {},
   "outputs": [
    {
     "data": {
      "text/plain": [
       "'2 BHK Flat  For Sale  In Vaishnodevi Excelsior In Kumbalgodu'"
      ]
     },
     "execution_count": 85,
     "metadata": {},
     "output_type": "execute_result"
    }
   ],
   "source": [
    "#Project\n",
    "list_items[0].find('span',{'class':'overflow-hidden overflow-ellipsis whitespace-nowrap max-w-80pe po:max-w-full'}).get_text() "
   ]
  },
  {
   "cell_type": "code",
   "execution_count": 101,
   "id": "609a2bec",
   "metadata": {},
   "outputs": [
    {
     "data": {
      "text/plain": [
       "'Not under loan₹ 1,040 sqftBuiltup₹21,206/MonthEstimated EMI₹37 Lacs₹3,558 per sq.ft.'"
      ]
     },
     "execution_count": 101,
     "metadata": {},
     "output_type": "execute_result"
    }
   ],
   "source": [
    "#Cost\n",
    "list_items[0].find('div',{'class':'p-1.5p flex border-b border-b-solid border-cardbordercolor tp:py-1p tp:px-1.5p tp:border-b-0'}).get_text()"
   ]
  },
  {
   "cell_type": "code",
   "execution_count": 147,
   "id": "cae65c27",
   "metadata": {},
   "outputs": [
    {
     "data": {
      "text/plain": [
       "'₹37 Lacs'"
      ]
     },
     "execution_count": 147,
     "metadata": {},
     "output_type": "execute_result"
    }
   ],
   "source": [
    "#Cost\n",
    "list_items[0].find('div',{'class':'p-1.5p flex border-b border-b-solid border-cardbordercolor tp:py-1p tp:px-1.5p tp:border-b-0'}).get_text().split('EMI')[1].split('Lacs')[0]+str('Lacs')"
   ]
  },
  {
   "cell_type": "code",
   "execution_count": 132,
   "id": "0731f916",
   "metadata": {},
   "outputs": [
    {
     "data": {
      "text/plain": [
       "'₹3,558 per sq.ft.'"
      ]
     },
     "execution_count": 132,
     "metadata": {},
     "output_type": "execute_result"
    }
   ],
   "source": [
    "#Cost per sft\n",
    "list_items[0].find('div',{'class':'p-1.5p flex border-b border-b-solid border-cardbordercolor tp:py-1p tp:px-1.5p tp:border-b-0'}).get_text().split('Lacs')[1]"
   ]
  },
  {
   "cell_type": "code",
   "execution_count": 108,
   "id": "b4b893f8",
   "metadata": {},
   "outputs": [
    {
     "data": {
      "text/plain": [
       "'opp to christ university'"
      ]
     },
     "execution_count": 108,
     "metadata": {},
     "output_type": "execute_result"
    }
   ],
   "source": [
    "#Data\n",
    "list_items[0].find('div',{'class':'mt-0.5p overflow-hidden overflow-ellipsis whitespace-nowrap max-w-70 text-gray-light leading-4 po:mb-0.1p po:max-w-95'}).get_text()"
   ]
  },
  {
   "cell_type": "code",
   "execution_count": 149,
   "id": "4d964e71",
   "metadata": {},
   "outputs": [],
   "source": [
    "# creating list\n",
    "Title =[result.find('span',{'class':'overflow-hidden overflow-ellipsis whitespace-nowrap max-w-80pe po:max-w-full'}).get_text()for result in list_items]\n",
    "Cost = [result.find('div',{'class':'p-1.5p flex border-b border-b-solid border-cardbordercolor tp:py-1p tp:px-1.5p tp:border-b-0'}).get_text().split('EMI')[1].split('Lacs')[0]+str('Lacs')for result in list_items]\n",
    "Address = [result.find('div',{'class':'mt-0.5p overflow-hidden overflow-ellipsis whitespace-nowrap max-w-70 text-gray-light leading-4 po:mb-0.1p po:max-w-95'}).get_text()for result in list_items]\n",
    "Project = [result.find('span',{'class':'overflow-hidden overflow-ellipsis whitespace-nowrap max-w-80pe po:max-w-full'}).get_text() for result in list_items]\n",
    "Cost_sft = [result.find('div',{'class':'p-1.5p flex border-b border-b-solid border-cardbordercolor tp:py-1p tp:px-1.5p tp:border-b-0'}).get_text().split('EMI')[1]for result in list_items]"
   ]
  },
  {
   "cell_type": "code",
   "execution_count": 153,
   "id": "c43875f5",
   "metadata": {},
   "outputs": [],
   "source": [
    "No_Broker = df({'Title': Title, 'Project':Project, 'Cost':Cost, 'Cost per Sqft':Cost_sft, 'Data':Address})"
   ]
  },
  {
   "cell_type": "code",
   "execution_count": 154,
   "id": "06afcf29",
   "metadata": {},
   "outputs": [
    {
     "data": {
      "text/html": [
       "<div>\n",
       "<style scoped>\n",
       "    .dataframe tbody tr th:only-of-type {\n",
       "        vertical-align: middle;\n",
       "    }\n",
       "\n",
       "    .dataframe tbody tr th {\n",
       "        vertical-align: top;\n",
       "    }\n",
       "\n",
       "    .dataframe thead th {\n",
       "        text-align: right;\n",
       "    }\n",
       "</style>\n",
       "<table border=\"1\" class=\"dataframe\">\n",
       "  <thead>\n",
       "    <tr style=\"text-align: right;\">\n",
       "      <th></th>\n",
       "      <th>Title</th>\n",
       "      <th>Project</th>\n",
       "      <th>Cost</th>\n",
       "      <th>Cost per Sqft</th>\n",
       "      <th>Data</th>\n",
       "    </tr>\n",
       "  </thead>\n",
       "  <tbody>\n",
       "    <tr>\n",
       "      <th>0</th>\n",
       "      <td>2 BHK Flat  For Sale  In Vaishnodevi Excelsior...</td>\n",
       "      <td>2 BHK Flat  For Sale  In Vaishnodevi Excelsior...</td>\n",
       "      <td>₹37 Lacs</td>\n",
       "      <td>₹37 Lacs₹3,558 per sq.ft.</td>\n",
       "      <td>opp to christ university</td>\n",
       "    </tr>\n",
       "    <tr>\n",
       "      <th>1</th>\n",
       "      <td>2 BHK Flat  For Sale  In Vaishnodevi Excelsior...</td>\n",
       "      <td>2 BHK Flat  For Sale  In Vaishnodevi Excelsior...</td>\n",
       "      <td>₹37 Lacs</td>\n",
       "      <td>₹37 Lacs₹3,558 per sq.ft.</td>\n",
       "      <td>opp to christ university</td>\n",
       "    </tr>\n",
       "    <tr>\n",
       "      <th>2</th>\n",
       "      <td>2 BHK Flat  For Sale  In Gopalan Olympia, Kumb...</td>\n",
       "      <td>2 BHK Flat  For Sale  In Gopalan Olympia, Kumb...</td>\n",
       "      <td>₹65 Lacs</td>\n",
       "      <td>₹65 Lacs₹6,633 per sq.ft.</td>\n",
       "      <td>Mysore Road, Bangalore, Karnataka, INDIA</td>\n",
       "    </tr>\n",
       "    <tr>\n",
       "      <th>3</th>\n",
       "      <td>2 BHK Flat  For Sale  In Gopalan Olympia, Kumb...</td>\n",
       "      <td>2 BHK Flat  For Sale  In Gopalan Olympia, Kumb...</td>\n",
       "      <td>₹65 Lacs</td>\n",
       "      <td>₹65 Lacs₹6,633 per sq.ft.</td>\n",
       "      <td>Mysore Road, Bangalore, Karnataka, INDIA</td>\n",
       "    </tr>\n",
       "    <tr>\n",
       "      <th>4</th>\n",
       "      <td>4+ BHK Flat  For Sale  In Kumbalgodu</td>\n",
       "      <td>4+ BHK Flat  For Sale  In Kumbalgodu</td>\n",
       "      <td>₹45 Lacs</td>\n",
       "      <td>₹45 Lacs₹2,500 per sq.ft.</td>\n",
       "      <td>Standalone building, Asirvanam, Anchepalya,Nea...</td>\n",
       "    </tr>\n",
       "    <tr>\n",
       "      <th>5</th>\n",
       "      <td>4+ BHK Flat  For Sale  In Kumbalgodu</td>\n",
       "      <td>4+ BHK Flat  For Sale  In Kumbalgodu</td>\n",
       "      <td>₹45 Lacs</td>\n",
       "      <td>₹45 Lacs₹2,500 per sq.ft.</td>\n",
       "      <td>Standalone building, Asirvanam, Anchepalya,Nea...</td>\n",
       "    </tr>\n",
       "    <tr>\n",
       "      <th>6</th>\n",
       "      <td>2 BHK Flat  For Sale  In Vertue Excelsior  In ...</td>\n",
       "      <td>2 BHK Flat  For Sale  In Vertue Excelsior  In ...</td>\n",
       "      <td>₹39 Lacs</td>\n",
       "      <td>₹39 Lacs₹4,105 per sq.ft.</td>\n",
       "      <td>kobalgodu mysore road near</td>\n",
       "    </tr>\n",
       "    <tr>\n",
       "      <th>7</th>\n",
       "      <td>2 BHK Flat  For Sale  In Vertue Excelsior  In ...</td>\n",
       "      <td>2 BHK Flat  For Sale  In Vertue Excelsior  In ...</td>\n",
       "      <td>₹39 Lacs</td>\n",
       "      <td>₹39 Lacs₹4,105 per sq.ft.</td>\n",
       "      <td>kobalgodu mysore road near</td>\n",
       "    </tr>\n",
       "    <tr>\n",
       "      <th>8</th>\n",
       "      <td>2 BHK Flat  For Sale  In Oraiyaan Excelsior In...</td>\n",
       "      <td>2 BHK Flat  For Sale  In Oraiyaan Excelsior In...</td>\n",
       "      <td>₹37 Lacs</td>\n",
       "      <td>₹37 Lacs₹3,834 per sq.ft.</td>\n",
       "      <td>old pepsi factory</td>\n",
       "    </tr>\n",
       "    <tr>\n",
       "      <th>9</th>\n",
       "      <td>2 BHK Flat  For Sale  In Oraiyaan Excelsior In...</td>\n",
       "      <td>2 BHK Flat  For Sale  In Oraiyaan Excelsior In...</td>\n",
       "      <td>₹37 Lacs</td>\n",
       "      <td>₹37 Lacs₹3,834 per sq.ft.</td>\n",
       "      <td>old pepsi factory</td>\n",
       "    </tr>\n",
       "    <tr>\n",
       "      <th>10</th>\n",
       "      <td>1 BHK Flat  For Sale  In Sowparnika Pranathi I...</td>\n",
       "      <td>1 BHK Flat  For Sale  In Sowparnika Pranathi I...</td>\n",
       "      <td>₹31.57 Lacs</td>\n",
       "      <td>₹31.57 Lacs₹5,771 per sq.ft.</td>\n",
       "      <td>Kumbalgodu</td>\n",
       "    </tr>\n",
       "    <tr>\n",
       "      <th>11</th>\n",
       "      <td>1 BHK Flat  For Sale  In Sowparnika Pranathi I...</td>\n",
       "      <td>1 BHK Flat  For Sale  In Sowparnika Pranathi I...</td>\n",
       "      <td>₹31.57 Lacs</td>\n",
       "      <td>₹31.57 Lacs₹5,771 per sq.ft.</td>\n",
       "      <td>Kumbalgodu</td>\n",
       "    </tr>\n",
       "    <tr>\n",
       "      <th>12</th>\n",
       "      <td>2 BHK Flat  For Sale  In Sowparnika Pranathi I...</td>\n",
       "      <td>2 BHK Flat  For Sale  In Sowparnika Pranathi I...</td>\n",
       "      <td>₹41.54 Lacs</td>\n",
       "      <td>₹41.54 Lacs₹5,636 per sq.ft.</td>\n",
       "      <td>, Kumbalgodu</td>\n",
       "    </tr>\n",
       "    <tr>\n",
       "      <th>13</th>\n",
       "      <td>2 BHK Flat  For Sale  In Sowparnika Pranathi I...</td>\n",
       "      <td>2 BHK Flat  For Sale  In Sowparnika Pranathi I...</td>\n",
       "      <td>₹41.54 Lacs</td>\n",
       "      <td>₹41.54 Lacs₹5,636 per sq.ft.</td>\n",
       "      <td>, Kumbalgodu</td>\n",
       "    </tr>\n",
       "    <tr>\n",
       "      <th>14</th>\n",
       "      <td>3 BHK Flat  For Sale  In Sowparnika Pranathi I...</td>\n",
       "      <td>3 BHK Flat  For Sale  In Sowparnika Pranathi I...</td>\n",
       "      <td>₹57 Lacs</td>\n",
       "      <td>₹57 Lacs₹6,045 per sq.ft.</td>\n",
       "      <td>Sy. No. 28/17, Kumbalgodu</td>\n",
       "    </tr>\n",
       "    <tr>\n",
       "      <th>15</th>\n",
       "      <td>3 BHK Flat  For Sale  In Sowparnika Pranathi I...</td>\n",
       "      <td>3 BHK Flat  For Sale  In Sowparnika Pranathi I...</td>\n",
       "      <td>₹57 Lacs</td>\n",
       "      <td>₹57 Lacs₹6,045 per sq.ft.</td>\n",
       "      <td>Sy. No. 28/17, Kumbalgodu</td>\n",
       "    </tr>\n",
       "    <tr>\n",
       "      <th>16</th>\n",
       "      <td>2 BHK Flat  For Sale  In Gopalan Olympia In Ku...</td>\n",
       "      <td>2 BHK Flat  For Sale  In Gopalan Olympia In Ku...</td>\n",
       "      <td>₹55.06 Lacs</td>\n",
       "      <td>₹55.06 Lacs₹5,618 per sq.ft.</td>\n",
       "      <td>Mysore Road, Bangalore, Karnataka, INDIA</td>\n",
       "    </tr>\n",
       "    <tr>\n",
       "      <th>17</th>\n",
       "      <td>2 BHK Flat  For Sale  In Gopalan Olympia In Ku...</td>\n",
       "      <td>2 BHK Flat  For Sale  In Gopalan Olympia In Ku...</td>\n",
       "      <td>₹55.06 Lacs</td>\n",
       "      <td>₹55.06 Lacs₹5,618 per sq.ft.</td>\n",
       "      <td>Mysore Road, Bangalore, Karnataka, INDIA</td>\n",
       "    </tr>\n",
       "    <tr>\n",
       "      <th>18</th>\n",
       "      <td>3 BHK Flat  For Sale  In Gopalan Olympia, Kumb...</td>\n",
       "      <td>3 BHK Flat  For Sale  In Gopalan Olympia, Kumb...</td>\n",
       "      <td>₹74 Lacs</td>\n",
       "      <td>₹74 Lacs₹5,441 per sq.ft.</td>\n",
       "      <td>Mysore Road, Bangalore, Karnataka, INDIA</td>\n",
       "    </tr>\n",
       "    <tr>\n",
       "      <th>19</th>\n",
       "      <td>3 BHK Flat  For Sale  In Gopalan Olympia, Kumb...</td>\n",
       "      <td>3 BHK Flat  For Sale  In Gopalan Olympia, Kumb...</td>\n",
       "      <td>₹74 Lacs</td>\n",
       "      <td>₹74 Lacs₹5,441 per sq.ft.</td>\n",
       "      <td>Mysore Road, Bangalore, Karnataka, INDIA</td>\n",
       "    </tr>\n",
       "    <tr>\n",
       "      <th>20</th>\n",
       "      <td>3 BHK Flat  For Sale  In Gopalan Olympia In Ku...</td>\n",
       "      <td>3 BHK Flat  For Sale  In Gopalan Olympia In Ku...</td>\n",
       "      <td>₹74.34 Lacs</td>\n",
       "      <td>₹74.34 Lacs₹5,466 per sq.ft.</td>\n",
       "      <td>Mysore Road, Bangalore, Karnataka, INDIA</td>\n",
       "    </tr>\n",
       "    <tr>\n",
       "      <th>21</th>\n",
       "      <td>3 BHK Flat  For Sale  In Gopalan Olympia In Ku...</td>\n",
       "      <td>3 BHK Flat  For Sale  In Gopalan Olympia In Ku...</td>\n",
       "      <td>₹74.34 Lacs</td>\n",
       "      <td>₹74.34 Lacs₹5,466 per sq.ft.</td>\n",
       "      <td>Mysore Road, Bangalore, Karnataka, INDIA</td>\n",
       "    </tr>\n",
       "    <tr>\n",
       "      <th>22</th>\n",
       "      <td>2 BHK Flat  For Sale  In Oraiyan Excelsior In ...</td>\n",
       "      <td>2 BHK Flat  For Sale  In Oraiyan Excelsior In ...</td>\n",
       "      <td>₹35.03 Lacs</td>\n",
       "      <td>₹35.03 Lacs₹3,665 per sq.ft.</td>\n",
       "      <td>Mysore Rd, , Bengaluru, near pepsi factory</td>\n",
       "    </tr>\n",
       "    <tr>\n",
       "      <th>23</th>\n",
       "      <td>2 BHK Flat  For Sale  In Oraiyan Excelsior In ...</td>\n",
       "      <td>2 BHK Flat  For Sale  In Oraiyan Excelsior In ...</td>\n",
       "      <td>₹35.03 Lacs</td>\n",
       "      <td>₹35.03 Lacs₹3,665 per sq.ft.</td>\n",
       "      <td>Mysore Rd, , Bengaluru, near pepsi factory</td>\n",
       "    </tr>\n",
       "    <tr>\n",
       "      <th>24</th>\n",
       "      <td>2 BHK Flat  For Sale  In Orion Exelasor In Kum...</td>\n",
       "      <td>2 BHK Flat  For Sale  In Orion Exelasor In Kum...</td>\n",
       "      <td>₹37 Lacs</td>\n",
       "      <td>₹37 Lacs₹3,895 per sq.ft.</td>\n",
       "      <td>Mysore Rd near Pepsico</td>\n",
       "    </tr>\n",
       "    <tr>\n",
       "      <th>25</th>\n",
       "      <td>2 BHK Flat  For Sale  In Orion Exelasor In Kum...</td>\n",
       "      <td>2 BHK Flat  For Sale  In Orion Exelasor In Kum...</td>\n",
       "      <td>₹37 Lacs</td>\n",
       "      <td>₹37 Lacs₹3,895 per sq.ft.</td>\n",
       "      <td>Mysore Rd near Pepsico</td>\n",
       "    </tr>\n",
       "    <tr>\n",
       "      <th>26</th>\n",
       "      <td>2 BHK Flat  For Sale  In Exccilor Apartment  I...</td>\n",
       "      <td>2 BHK Flat  For Sale  In Exccilor Apartment  I...</td>\n",
       "      <td>₹37 Lacs</td>\n",
       "      <td>₹37 Lacs₹3,870 per sq.ft.</td>\n",
       "      <td>1st Phase Mysore Road,near, Pepsico</td>\n",
       "    </tr>\n",
       "    <tr>\n",
       "      <th>27</th>\n",
       "      <td>2 BHK Flat  For Sale  In Exccilor Apartment  I...</td>\n",
       "      <td>2 BHK Flat  For Sale  In Exccilor Apartment  I...</td>\n",
       "      <td>₹37 Lacs</td>\n",
       "      <td>₹37 Lacs₹3,870 per sq.ft.</td>\n",
       "      <td>1st Phase Mysore Road,near, Pepsico</td>\n",
       "    </tr>\n",
       "    <tr>\n",
       "      <th>28</th>\n",
       "      <td>2 BHK Flat  For Sale  In Oraiyan Excelsior In ...</td>\n",
       "      <td>2 BHK Flat  For Sale  In Oraiyan Excelsior In ...</td>\n",
       "      <td>₹37 Lacs</td>\n",
       "      <td>₹37 Lacs₹3,834 per sq.ft.</td>\n",
       "      <td>Pepsico No-23 1st Phase Mysore Road Kumbalgodu</td>\n",
       "    </tr>\n",
       "    <tr>\n",
       "      <th>29</th>\n",
       "      <td>2 BHK Flat  For Sale  In Oraiyan Excelsior In ...</td>\n",
       "      <td>2 BHK Flat  For Sale  In Oraiyan Excelsior In ...</td>\n",
       "      <td>₹37 Lacs</td>\n",
       "      <td>₹37 Lacs₹3,834 per sq.ft.</td>\n",
       "      <td>Pepsico No-23 1st Phase Mysore Road Kumbalgodu</td>\n",
       "    </tr>\n",
       "    <tr>\n",
       "      <th>30</th>\n",
       "      <td>2 BHK Flat  For Sale  In Brigade Panorama In K...</td>\n",
       "      <td>2 BHK Flat  For Sale  In Brigade Panorama In K...</td>\n",
       "      <td>₹98 Lacs</td>\n",
       "      <td>₹98 Lacs₹9,125 per sq.ft.</td>\n",
       "      <td>Mysore Road, near RajaRajeswari Dental College...</td>\n",
       "    </tr>\n",
       "    <tr>\n",
       "      <th>31</th>\n",
       "      <td>2 BHK Flat  For Sale  In Brigade Panorama In K...</td>\n",
       "      <td>2 BHK Flat  For Sale  In Brigade Panorama In K...</td>\n",
       "      <td>₹98 Lacs</td>\n",
       "      <td>₹98 Lacs₹9,125 per sq.ft.</td>\n",
       "      <td>Mysore Road, near RajaRajeswari Dental College...</td>\n",
       "    </tr>\n",
       "    <tr>\n",
       "      <th>32</th>\n",
       "      <td>3 BHK Flat  For Sale  In Brigade Panorama, Anc...</td>\n",
       "      <td>3 BHK Flat  For Sale  In Brigade Panorama, Anc...</td>\n",
       "      <td>₹2.25 Crores₹13,158 per sq.ft.Lacs</td>\n",
       "      <td>₹2.25 Crores₹13,158 per sq.ft.</td>\n",
       "      <td>Survey No. 43/5, 43/30 &amp; 238, Mysuru main road...</td>\n",
       "    </tr>\n",
       "    <tr>\n",
       "      <th>33</th>\n",
       "      <td>3 BHK Flat  For Sale  In Brigade Panorama, Anc...</td>\n",
       "      <td>3 BHK Flat  For Sale  In Brigade Panorama, Anc...</td>\n",
       "      <td>₹2.25 Crores₹13,158 per sq.ft.Lacs</td>\n",
       "      <td>₹2.25 Crores₹13,158 per sq.ft.</td>\n",
       "      <td>Survey No. 43/5, 43/30 &amp; 238, Mysuru main road...</td>\n",
       "    </tr>\n",
       "    <tr>\n",
       "      <th>34</th>\n",
       "      <td>3 BHK Apartment  For Sale  In Brigade Panorama...</td>\n",
       "      <td>3 BHK Apartment  For Sale  In Brigade Panorama...</td>\n",
       "      <td>₹86 Lacs</td>\n",
       "      <td>₹86 Lacs₹5,429 per sq.ft.</td>\n",
       "      <td>Brigade Panorama  Survey No. 43/5, 43/30 &amp; 238...</td>\n",
       "    </tr>\n",
       "    <tr>\n",
       "      <th>35</th>\n",
       "      <td>3 BHK Apartment  For Sale  In Brigade Panorama...</td>\n",
       "      <td>3 BHK Apartment  For Sale  In Brigade Panorama...</td>\n",
       "      <td>₹86 Lacs</td>\n",
       "      <td>₹86 Lacs₹5,429 per sq.ft.</td>\n",
       "      <td>Brigade Panorama  Survey No. 43/5, 43/30 &amp; 238...</td>\n",
       "    </tr>\n",
       "    <tr>\n",
       "      <th>36</th>\n",
       "      <td>3 BHK Apartment  For Sale  In Brigade Panorama...</td>\n",
       "      <td>3 BHK Apartment  For Sale  In Brigade Panorama...</td>\n",
       "      <td>₹1.11 Crores₹6,379 per sq.ft.Lacs</td>\n",
       "      <td>₹1.11 Crores₹6,379 per sq.ft.</td>\n",
       "      <td>Brigade Panorama  Survey No. 43/5, 43/30 &amp; 238...</td>\n",
       "    </tr>\n",
       "    <tr>\n",
       "      <th>37</th>\n",
       "      <td>3 BHK Apartment  For Sale  In Brigade Panorama...</td>\n",
       "      <td>3 BHK Apartment  For Sale  In Brigade Panorama...</td>\n",
       "      <td>₹1.11 Crores₹6,379 per sq.ft.Lacs</td>\n",
       "      <td>₹1.11 Crores₹6,379 per sq.ft.</td>\n",
       "      <td>Brigade Panorama  Survey No. 43/5, 43/30 &amp; 238...</td>\n",
       "    </tr>\n",
       "    <tr>\n",
       "      <th>38</th>\n",
       "      <td>2 BHK Flat  For Sale  In Brigade Panorama, Anc...</td>\n",
       "      <td>2 BHK Flat  For Sale  In Brigade Panorama, Anc...</td>\n",
       "      <td>₹75 Lacs</td>\n",
       "      <td>₹75 Lacs₹7,009 per sq.ft.</td>\n",
       "      <td>Survey No. 43/5, 43/30 &amp; 238, Mysuru main road...</td>\n",
       "    </tr>\n",
       "    <tr>\n",
       "      <th>39</th>\n",
       "      <td>2 BHK Flat  For Sale  In Brigade Panorama, Anc...</td>\n",
       "      <td>2 BHK Flat  For Sale  In Brigade Panorama, Anc...</td>\n",
       "      <td>₹75 Lacs</td>\n",
       "      <td>₹75 Lacs₹7,009 per sq.ft.</td>\n",
       "      <td>Survey No. 43/5, 43/30 &amp; 238, Mysuru main road...</td>\n",
       "    </tr>\n",
       "    <tr>\n",
       "      <th>40</th>\n",
       "      <td>3 BHK Flat  For Sale  In Brigade Panorama, Anc...</td>\n",
       "      <td>3 BHK Flat  For Sale  In Brigade Panorama, Anc...</td>\n",
       "      <td>₹1.1 Crores₹6,433 per sq.ft.Lacs</td>\n",
       "      <td>₹1.1 Crores₹6,433 per sq.ft.</td>\n",
       "      <td>Survey No. 43/5, 43/30 &amp; 238, Mysuru main road...</td>\n",
       "    </tr>\n",
       "    <tr>\n",
       "      <th>41</th>\n",
       "      <td>3 BHK Flat  For Sale  In Brigade Panorama, Anc...</td>\n",
       "      <td>3 BHK Flat  For Sale  In Brigade Panorama, Anc...</td>\n",
       "      <td>₹1.1 Crores₹6,433 per sq.ft.Lacs</td>\n",
       "      <td>₹1.1 Crores₹6,433 per sq.ft.</td>\n",
       "      <td>Survey No. 43/5, 43/30 &amp; 238, Mysuru main road...</td>\n",
       "    </tr>\n",
       "    <tr>\n",
       "      <th>42</th>\n",
       "      <td>2 BHK Flat  For Sale  In Brigade Panorama, Anc...</td>\n",
       "      <td>2 BHK Flat  For Sale  In Brigade Panorama, Anc...</td>\n",
       "      <td>₹85 Lacs</td>\n",
       "      <td>₹85 Lacs₹9,023 per sq.ft.</td>\n",
       "      <td>Survey No. 43/5, 43/30 &amp; 238, Mysuru main road...</td>\n",
       "    </tr>\n",
       "    <tr>\n",
       "      <th>43</th>\n",
       "      <td>2 BHK Flat  For Sale  In Brigade Panorama, Anc...</td>\n",
       "      <td>2 BHK Flat  For Sale  In Brigade Panorama, Anc...</td>\n",
       "      <td>₹85 Lacs</td>\n",
       "      <td>₹85 Lacs₹9,023 per sq.ft.</td>\n",
       "      <td>Survey No. 43/5, 43/30 &amp; 238, Mysuru main road...</td>\n",
       "    </tr>\n",
       "    <tr>\n",
       "      <th>44</th>\n",
       "      <td>2 BHK Apartment  For Sale  In Brigade Panorama...</td>\n",
       "      <td>2 BHK Apartment  For Sale  In Brigade Panorama...</td>\n",
       "      <td>₹65 Lacs</td>\n",
       "      <td>₹65 Lacs₹6,871 per sq.ft.</td>\n",
       "      <td>Brigade Panorama  Survey No. 43/5, 43/30</td>\n",
       "    </tr>\n",
       "    <tr>\n",
       "      <th>45</th>\n",
       "      <td>2 BHK Apartment  For Sale  In Brigade Panorama...</td>\n",
       "      <td>2 BHK Apartment  For Sale  In Brigade Panorama...</td>\n",
       "      <td>₹65 Lacs</td>\n",
       "      <td>₹65 Lacs₹6,871 per sq.ft.</td>\n",
       "      <td>Brigade Panorama  Survey No. 43/5, 43/30</td>\n",
       "    </tr>\n",
       "    <tr>\n",
       "      <th>46</th>\n",
       "      <td>3 BHK Apartment  For Sale  In Brigade Panorama...</td>\n",
       "      <td>3 BHK Apartment  For Sale  In Brigade Panorama...</td>\n",
       "      <td>₹1.05 Crores₹7,241 per sq.ft.Lacs</td>\n",
       "      <td>₹1.05 Crores₹7,241 per sq.ft.</td>\n",
       "      <td>Brigade Panorama  Survey No. 43/5, 43/30 &amp; 238...</td>\n",
       "    </tr>\n",
       "    <tr>\n",
       "      <th>47</th>\n",
       "      <td>3 BHK Apartment  For Sale  In Brigade Panorama...</td>\n",
       "      <td>3 BHK Apartment  For Sale  In Brigade Panorama...</td>\n",
       "      <td>₹1.05 Crores₹7,241 per sq.ft.Lacs</td>\n",
       "      <td>₹1.05 Crores₹7,241 per sq.ft.</td>\n",
       "      <td>Brigade Panorama  Survey No. 43/5, 43/30 &amp; 238...</td>\n",
       "    </tr>\n",
       "    <tr>\n",
       "      <th>48</th>\n",
       "      <td>3 BHK Apartment  For Sale  In Brigade Panorama...</td>\n",
       "      <td>3 BHK Apartment  For Sale  In Brigade Panorama...</td>\n",
       "      <td>₹1 Crore₹6,897 per sq.ft.Lacs</td>\n",
       "      <td>₹1 Crore₹6,897 per sq.ft.</td>\n",
       "      <td>Brigade Panorama  Survey No. 43/5, 43/30 &amp; 238...</td>\n",
       "    </tr>\n",
       "    <tr>\n",
       "      <th>49</th>\n",
       "      <td>3 BHK Apartment  For Sale  In Brigade Panorama...</td>\n",
       "      <td>3 BHK Apartment  For Sale  In Brigade Panorama...</td>\n",
       "      <td>₹1 Crore₹6,897 per sq.ft.Lacs</td>\n",
       "      <td>₹1 Crore₹6,897 per sq.ft.</td>\n",
       "      <td>Brigade Panorama  Survey No. 43/5, 43/30 &amp; 238...</td>\n",
       "    </tr>\n",
       "  </tbody>\n",
       "</table>\n",
       "</div>"
      ],
      "text/plain": [
       "                                                Title  \\\n",
       "0   2 BHK Flat  For Sale  In Vaishnodevi Excelsior...   \n",
       "1   2 BHK Flat  For Sale  In Vaishnodevi Excelsior...   \n",
       "2   2 BHK Flat  For Sale  In Gopalan Olympia, Kumb...   \n",
       "3   2 BHK Flat  For Sale  In Gopalan Olympia, Kumb...   \n",
       "4                4+ BHK Flat  For Sale  In Kumbalgodu   \n",
       "5                4+ BHK Flat  For Sale  In Kumbalgodu   \n",
       "6   2 BHK Flat  For Sale  In Vertue Excelsior  In ...   \n",
       "7   2 BHK Flat  For Sale  In Vertue Excelsior  In ...   \n",
       "8   2 BHK Flat  For Sale  In Oraiyaan Excelsior In...   \n",
       "9   2 BHK Flat  For Sale  In Oraiyaan Excelsior In...   \n",
       "10  1 BHK Flat  For Sale  In Sowparnika Pranathi I...   \n",
       "11  1 BHK Flat  For Sale  In Sowparnika Pranathi I...   \n",
       "12  2 BHK Flat  For Sale  In Sowparnika Pranathi I...   \n",
       "13  2 BHK Flat  For Sale  In Sowparnika Pranathi I...   \n",
       "14  3 BHK Flat  For Sale  In Sowparnika Pranathi I...   \n",
       "15  3 BHK Flat  For Sale  In Sowparnika Pranathi I...   \n",
       "16  2 BHK Flat  For Sale  In Gopalan Olympia In Ku...   \n",
       "17  2 BHK Flat  For Sale  In Gopalan Olympia In Ku...   \n",
       "18  3 BHK Flat  For Sale  In Gopalan Olympia, Kumb...   \n",
       "19  3 BHK Flat  For Sale  In Gopalan Olympia, Kumb...   \n",
       "20  3 BHK Flat  For Sale  In Gopalan Olympia In Ku...   \n",
       "21  3 BHK Flat  For Sale  In Gopalan Olympia In Ku...   \n",
       "22  2 BHK Flat  For Sale  In Oraiyan Excelsior In ...   \n",
       "23  2 BHK Flat  For Sale  In Oraiyan Excelsior In ...   \n",
       "24  2 BHK Flat  For Sale  In Orion Exelasor In Kum...   \n",
       "25  2 BHK Flat  For Sale  In Orion Exelasor In Kum...   \n",
       "26  2 BHK Flat  For Sale  In Exccilor Apartment  I...   \n",
       "27  2 BHK Flat  For Sale  In Exccilor Apartment  I...   \n",
       "28  2 BHK Flat  For Sale  In Oraiyan Excelsior In ...   \n",
       "29  2 BHK Flat  For Sale  In Oraiyan Excelsior In ...   \n",
       "30  2 BHK Flat  For Sale  In Brigade Panorama In K...   \n",
       "31  2 BHK Flat  For Sale  In Brigade Panorama In K...   \n",
       "32  3 BHK Flat  For Sale  In Brigade Panorama, Anc...   \n",
       "33  3 BHK Flat  For Sale  In Brigade Panorama, Anc...   \n",
       "34  3 BHK Apartment  For Sale  In Brigade Panorama...   \n",
       "35  3 BHK Apartment  For Sale  In Brigade Panorama...   \n",
       "36  3 BHK Apartment  For Sale  In Brigade Panorama...   \n",
       "37  3 BHK Apartment  For Sale  In Brigade Panorama...   \n",
       "38  2 BHK Flat  For Sale  In Brigade Panorama, Anc...   \n",
       "39  2 BHK Flat  For Sale  In Brigade Panorama, Anc...   \n",
       "40  3 BHK Flat  For Sale  In Brigade Panorama, Anc...   \n",
       "41  3 BHK Flat  For Sale  In Brigade Panorama, Anc...   \n",
       "42  2 BHK Flat  For Sale  In Brigade Panorama, Anc...   \n",
       "43  2 BHK Flat  For Sale  In Brigade Panorama, Anc...   \n",
       "44  2 BHK Apartment  For Sale  In Brigade Panorama...   \n",
       "45  2 BHK Apartment  For Sale  In Brigade Panorama...   \n",
       "46  3 BHK Apartment  For Sale  In Brigade Panorama...   \n",
       "47  3 BHK Apartment  For Sale  In Brigade Panorama...   \n",
       "48  3 BHK Apartment  For Sale  In Brigade Panorama...   \n",
       "49  3 BHK Apartment  For Sale  In Brigade Panorama...   \n",
       "\n",
       "                                              Project  \\\n",
       "0   2 BHK Flat  For Sale  In Vaishnodevi Excelsior...   \n",
       "1   2 BHK Flat  For Sale  In Vaishnodevi Excelsior...   \n",
       "2   2 BHK Flat  For Sale  In Gopalan Olympia, Kumb...   \n",
       "3   2 BHK Flat  For Sale  In Gopalan Olympia, Kumb...   \n",
       "4                4+ BHK Flat  For Sale  In Kumbalgodu   \n",
       "5                4+ BHK Flat  For Sale  In Kumbalgodu   \n",
       "6   2 BHK Flat  For Sale  In Vertue Excelsior  In ...   \n",
       "7   2 BHK Flat  For Sale  In Vertue Excelsior  In ...   \n",
       "8   2 BHK Flat  For Sale  In Oraiyaan Excelsior In...   \n",
       "9   2 BHK Flat  For Sale  In Oraiyaan Excelsior In...   \n",
       "10  1 BHK Flat  For Sale  In Sowparnika Pranathi I...   \n",
       "11  1 BHK Flat  For Sale  In Sowparnika Pranathi I...   \n",
       "12  2 BHK Flat  For Sale  In Sowparnika Pranathi I...   \n",
       "13  2 BHK Flat  For Sale  In Sowparnika Pranathi I...   \n",
       "14  3 BHK Flat  For Sale  In Sowparnika Pranathi I...   \n",
       "15  3 BHK Flat  For Sale  In Sowparnika Pranathi I...   \n",
       "16  2 BHK Flat  For Sale  In Gopalan Olympia In Ku...   \n",
       "17  2 BHK Flat  For Sale  In Gopalan Olympia In Ku...   \n",
       "18  3 BHK Flat  For Sale  In Gopalan Olympia, Kumb...   \n",
       "19  3 BHK Flat  For Sale  In Gopalan Olympia, Kumb...   \n",
       "20  3 BHK Flat  For Sale  In Gopalan Olympia In Ku...   \n",
       "21  3 BHK Flat  For Sale  In Gopalan Olympia In Ku...   \n",
       "22  2 BHK Flat  For Sale  In Oraiyan Excelsior In ...   \n",
       "23  2 BHK Flat  For Sale  In Oraiyan Excelsior In ...   \n",
       "24  2 BHK Flat  For Sale  In Orion Exelasor In Kum...   \n",
       "25  2 BHK Flat  For Sale  In Orion Exelasor In Kum...   \n",
       "26  2 BHK Flat  For Sale  In Exccilor Apartment  I...   \n",
       "27  2 BHK Flat  For Sale  In Exccilor Apartment  I...   \n",
       "28  2 BHK Flat  For Sale  In Oraiyan Excelsior In ...   \n",
       "29  2 BHK Flat  For Sale  In Oraiyan Excelsior In ...   \n",
       "30  2 BHK Flat  For Sale  In Brigade Panorama In K...   \n",
       "31  2 BHK Flat  For Sale  In Brigade Panorama In K...   \n",
       "32  3 BHK Flat  For Sale  In Brigade Panorama, Anc...   \n",
       "33  3 BHK Flat  For Sale  In Brigade Panorama, Anc...   \n",
       "34  3 BHK Apartment  For Sale  In Brigade Panorama...   \n",
       "35  3 BHK Apartment  For Sale  In Brigade Panorama...   \n",
       "36  3 BHK Apartment  For Sale  In Brigade Panorama...   \n",
       "37  3 BHK Apartment  For Sale  In Brigade Panorama...   \n",
       "38  2 BHK Flat  For Sale  In Brigade Panorama, Anc...   \n",
       "39  2 BHK Flat  For Sale  In Brigade Panorama, Anc...   \n",
       "40  3 BHK Flat  For Sale  In Brigade Panorama, Anc...   \n",
       "41  3 BHK Flat  For Sale  In Brigade Panorama, Anc...   \n",
       "42  2 BHK Flat  For Sale  In Brigade Panorama, Anc...   \n",
       "43  2 BHK Flat  For Sale  In Brigade Panorama, Anc...   \n",
       "44  2 BHK Apartment  For Sale  In Brigade Panorama...   \n",
       "45  2 BHK Apartment  For Sale  In Brigade Panorama...   \n",
       "46  3 BHK Apartment  For Sale  In Brigade Panorama...   \n",
       "47  3 BHK Apartment  For Sale  In Brigade Panorama...   \n",
       "48  3 BHK Apartment  For Sale  In Brigade Panorama...   \n",
       "49  3 BHK Apartment  For Sale  In Brigade Panorama...   \n",
       "\n",
       "                                  Cost                   Cost per Sqft  \\\n",
       "0                             ₹37 Lacs       ₹37 Lacs₹3,558 per sq.ft.   \n",
       "1                             ₹37 Lacs       ₹37 Lacs₹3,558 per sq.ft.   \n",
       "2                             ₹65 Lacs       ₹65 Lacs₹6,633 per sq.ft.   \n",
       "3                             ₹65 Lacs       ₹65 Lacs₹6,633 per sq.ft.   \n",
       "4                             ₹45 Lacs       ₹45 Lacs₹2,500 per sq.ft.   \n",
       "5                             ₹45 Lacs       ₹45 Lacs₹2,500 per sq.ft.   \n",
       "6                             ₹39 Lacs       ₹39 Lacs₹4,105 per sq.ft.   \n",
       "7                             ₹39 Lacs       ₹39 Lacs₹4,105 per sq.ft.   \n",
       "8                             ₹37 Lacs       ₹37 Lacs₹3,834 per sq.ft.   \n",
       "9                             ₹37 Lacs       ₹37 Lacs₹3,834 per sq.ft.   \n",
       "10                         ₹31.57 Lacs    ₹31.57 Lacs₹5,771 per sq.ft.   \n",
       "11                         ₹31.57 Lacs    ₹31.57 Lacs₹5,771 per sq.ft.   \n",
       "12                         ₹41.54 Lacs    ₹41.54 Lacs₹5,636 per sq.ft.   \n",
       "13                         ₹41.54 Lacs    ₹41.54 Lacs₹5,636 per sq.ft.   \n",
       "14                            ₹57 Lacs       ₹57 Lacs₹6,045 per sq.ft.   \n",
       "15                            ₹57 Lacs       ₹57 Lacs₹6,045 per sq.ft.   \n",
       "16                         ₹55.06 Lacs    ₹55.06 Lacs₹5,618 per sq.ft.   \n",
       "17                         ₹55.06 Lacs    ₹55.06 Lacs₹5,618 per sq.ft.   \n",
       "18                            ₹74 Lacs       ₹74 Lacs₹5,441 per sq.ft.   \n",
       "19                            ₹74 Lacs       ₹74 Lacs₹5,441 per sq.ft.   \n",
       "20                         ₹74.34 Lacs    ₹74.34 Lacs₹5,466 per sq.ft.   \n",
       "21                         ₹74.34 Lacs    ₹74.34 Lacs₹5,466 per sq.ft.   \n",
       "22                         ₹35.03 Lacs    ₹35.03 Lacs₹3,665 per sq.ft.   \n",
       "23                         ₹35.03 Lacs    ₹35.03 Lacs₹3,665 per sq.ft.   \n",
       "24                            ₹37 Lacs       ₹37 Lacs₹3,895 per sq.ft.   \n",
       "25                            ₹37 Lacs       ₹37 Lacs₹3,895 per sq.ft.   \n",
       "26                            ₹37 Lacs       ₹37 Lacs₹3,870 per sq.ft.   \n",
       "27                            ₹37 Lacs       ₹37 Lacs₹3,870 per sq.ft.   \n",
       "28                            ₹37 Lacs       ₹37 Lacs₹3,834 per sq.ft.   \n",
       "29                            ₹37 Lacs       ₹37 Lacs₹3,834 per sq.ft.   \n",
       "30                            ₹98 Lacs       ₹98 Lacs₹9,125 per sq.ft.   \n",
       "31                            ₹98 Lacs       ₹98 Lacs₹9,125 per sq.ft.   \n",
       "32  ₹2.25 Crores₹13,158 per sq.ft.Lacs  ₹2.25 Crores₹13,158 per sq.ft.   \n",
       "33  ₹2.25 Crores₹13,158 per sq.ft.Lacs  ₹2.25 Crores₹13,158 per sq.ft.   \n",
       "34                            ₹86 Lacs       ₹86 Lacs₹5,429 per sq.ft.   \n",
       "35                            ₹86 Lacs       ₹86 Lacs₹5,429 per sq.ft.   \n",
       "36   ₹1.11 Crores₹6,379 per sq.ft.Lacs   ₹1.11 Crores₹6,379 per sq.ft.   \n",
       "37   ₹1.11 Crores₹6,379 per sq.ft.Lacs   ₹1.11 Crores₹6,379 per sq.ft.   \n",
       "38                            ₹75 Lacs       ₹75 Lacs₹7,009 per sq.ft.   \n",
       "39                            ₹75 Lacs       ₹75 Lacs₹7,009 per sq.ft.   \n",
       "40    ₹1.1 Crores₹6,433 per sq.ft.Lacs    ₹1.1 Crores₹6,433 per sq.ft.   \n",
       "41    ₹1.1 Crores₹6,433 per sq.ft.Lacs    ₹1.1 Crores₹6,433 per sq.ft.   \n",
       "42                            ₹85 Lacs       ₹85 Lacs₹9,023 per sq.ft.   \n",
       "43                            ₹85 Lacs       ₹85 Lacs₹9,023 per sq.ft.   \n",
       "44                            ₹65 Lacs       ₹65 Lacs₹6,871 per sq.ft.   \n",
       "45                            ₹65 Lacs       ₹65 Lacs₹6,871 per sq.ft.   \n",
       "46   ₹1.05 Crores₹7,241 per sq.ft.Lacs   ₹1.05 Crores₹7,241 per sq.ft.   \n",
       "47   ₹1.05 Crores₹7,241 per sq.ft.Lacs   ₹1.05 Crores₹7,241 per sq.ft.   \n",
       "48       ₹1 Crore₹6,897 per sq.ft.Lacs       ₹1 Crore₹6,897 per sq.ft.   \n",
       "49       ₹1 Crore₹6,897 per sq.ft.Lacs       ₹1 Crore₹6,897 per sq.ft.   \n",
       "\n",
       "                                                 Data  \n",
       "0                            opp to christ university  \n",
       "1                            opp to christ university  \n",
       "2            Mysore Road, Bangalore, Karnataka, INDIA  \n",
       "3            Mysore Road, Bangalore, Karnataka, INDIA  \n",
       "4   Standalone building, Asirvanam, Anchepalya,Nea...  \n",
       "5   Standalone building, Asirvanam, Anchepalya,Nea...  \n",
       "6                         kobalgodu mysore road near   \n",
       "7                         kobalgodu mysore road near   \n",
       "8                                   old pepsi factory  \n",
       "9                                   old pepsi factory  \n",
       "10                                         Kumbalgodu  \n",
       "11                                         Kumbalgodu  \n",
       "12                                       , Kumbalgodu  \n",
       "13                                       , Kumbalgodu  \n",
       "14                          Sy. No. 28/17, Kumbalgodu  \n",
       "15                          Sy. No. 28/17, Kumbalgodu  \n",
       "16           Mysore Road, Bangalore, Karnataka, INDIA  \n",
       "17           Mysore Road, Bangalore, Karnataka, INDIA  \n",
       "18           Mysore Road, Bangalore, Karnataka, INDIA  \n",
       "19           Mysore Road, Bangalore, Karnataka, INDIA  \n",
       "20           Mysore Road, Bangalore, Karnataka, INDIA  \n",
       "21           Mysore Road, Bangalore, Karnataka, INDIA  \n",
       "22         Mysore Rd, , Bengaluru, near pepsi factory  \n",
       "23         Mysore Rd, , Bengaluru, near pepsi factory  \n",
       "24                             Mysore Rd near Pepsico  \n",
       "25                             Mysore Rd near Pepsico  \n",
       "26                1st Phase Mysore Road,near, Pepsico  \n",
       "27                1st Phase Mysore Road,near, Pepsico  \n",
       "28     Pepsico No-23 1st Phase Mysore Road Kumbalgodu  \n",
       "29     Pepsico No-23 1st Phase Mysore Road Kumbalgodu  \n",
       "30  Mysore Road, near RajaRajeswari Dental College...  \n",
       "31  Mysore Road, near RajaRajeswari Dental College...  \n",
       "32  Survey No. 43/5, 43/30 & 238, Mysuru main road...  \n",
       "33  Survey No. 43/5, 43/30 & 238, Mysuru main road...  \n",
       "34  Brigade Panorama  Survey No. 43/5, 43/30 & 238...  \n",
       "35  Brigade Panorama  Survey No. 43/5, 43/30 & 238...  \n",
       "36  Brigade Panorama  Survey No. 43/5, 43/30 & 238...  \n",
       "37  Brigade Panorama  Survey No. 43/5, 43/30 & 238...  \n",
       "38  Survey No. 43/5, 43/30 & 238, Mysuru main road...  \n",
       "39  Survey No. 43/5, 43/30 & 238, Mysuru main road...  \n",
       "40  Survey No. 43/5, 43/30 & 238, Mysuru main road...  \n",
       "41  Survey No. 43/5, 43/30 & 238, Mysuru main road...  \n",
       "42  Survey No. 43/5, 43/30 & 238, Mysuru main road...  \n",
       "43  Survey No. 43/5, 43/30 & 238, Mysuru main road...  \n",
       "44           Brigade Panorama  Survey No. 43/5, 43/30  \n",
       "45           Brigade Panorama  Survey No. 43/5, 43/30  \n",
       "46  Brigade Panorama  Survey No. 43/5, 43/30 & 238...  \n",
       "47  Brigade Panorama  Survey No. 43/5, 43/30 & 238...  \n",
       "48  Brigade Panorama  Survey No. 43/5, 43/30 & 238...  \n",
       "49  Brigade Panorama  Survey No. 43/5, 43/30 & 238...  "
      ]
     },
     "execution_count": 154,
     "metadata": {},
     "output_type": "execute_result"
    }
   ],
   "source": [
    "No_Broker"
   ]
  },
  {
   "cell_type": "code",
   "execution_count": 159,
   "id": "23f3f4a7",
   "metadata": {},
   "outputs": [],
   "source": [
    "Real_estate = pd.concat([Magic_Brick, Common, Housing, No_Broker], axis=0)"
   ]
  },
  {
   "cell_type": "code",
   "execution_count": 160,
   "id": "9ce1a359",
   "metadata": {},
   "outputs": [
    {
     "data": {
      "text/html": [
       "<div>\n",
       "<style scoped>\n",
       "    .dataframe tbody tr th:only-of-type {\n",
       "        vertical-align: middle;\n",
       "    }\n",
       "\n",
       "    .dataframe tbody tr th {\n",
       "        vertical-align: top;\n",
       "    }\n",
       "\n",
       "    .dataframe thead th {\n",
       "        text-align: right;\n",
       "    }\n",
       "</style>\n",
       "<table border=\"1\" class=\"dataframe\">\n",
       "  <thead>\n",
       "    <tr style=\"text-align: right;\">\n",
       "      <th></th>\n",
       "      <th>Title</th>\n",
       "      <th>Project</th>\n",
       "      <th>Cost</th>\n",
       "      <th>Cost Per Sqft</th>\n",
       "      <th>Data</th>\n",
       "      <th>Cost per Sqft</th>\n",
       "    </tr>\n",
       "  </thead>\n",
       "  <tbody>\n",
       "    <tr>\n",
       "      <th>0</th>\n",
       "      <td>2 BHK Flat for Sale in Hennur Main Road</td>\n",
       "      <td>Purva Promenade</td>\n",
       "      <td>₹99 Lac</td>\n",
       "      <td>₹8036 per sqft</td>\n",
       "      <td>This property embraces 19.37 acres of land dis...</td>\n",
       "      <td>NaN</td>\n",
       "    </tr>\n",
       "    <tr>\n",
       "      <th>1</th>\n",
       "      <td>2 BHK Flat for Sale in Sarjapur Road</td>\n",
       "      <td>Bavisha Gardeniaa</td>\n",
       "      <td>₹39.3 Lac</td>\n",
       "      <td>₹4500 per sqft</td>\n",
       "      <td>Bavisha Gardenia is a new Creation defining ur...</td>\n",
       "      <td>NaN</td>\n",
       "    </tr>\n",
       "    <tr>\n",
       "      <th>2</th>\n",
       "      <td>2 BHK Flat for Sale in Kadubeesanahalli</td>\n",
       "      <td>Bhuvi By Amsha</td>\n",
       "      <td>₹1.33 Cr</td>\n",
       "      <td>₹9541 per sqft</td>\n",
       "      <td>A Home Where Everything is a Blessing. A premi...</td>\n",
       "      <td>NaN</td>\n",
       "    </tr>\n",
       "    <tr>\n",
       "      <th>3</th>\n",
       "      <td>2 BHK Flat for Sale in whitefield</td>\n",
       "      <td>Sai Sunshine</td>\n",
       "      <td>₹64.7 Lac</td>\n",
       "      <td>₹5460 per sqft</td>\n",
       "      <td>Sree Sai Sunshine which has Apartments at Whit...</td>\n",
       "      <td>NaN</td>\n",
       "    </tr>\n",
       "    <tr>\n",
       "      <th>4</th>\n",
       "      <td>1 BHK Flat for Sale in Varthur</td>\n",
       "      <td>Candeur Signature</td>\n",
       "      <td>₹58.2 Lac</td>\n",
       "      <td>₹9403 per sqft</td>\n",
       "      <td>Candeur signature is emerging as the hub for l...</td>\n",
       "      <td>NaN</td>\n",
       "    </tr>\n",
       "    <tr>\n",
       "      <th>...</th>\n",
       "      <td>...</td>\n",
       "      <td>...</td>\n",
       "      <td>...</td>\n",
       "      <td>...</td>\n",
       "      <td>...</td>\n",
       "      <td>...</td>\n",
       "    </tr>\n",
       "    <tr>\n",
       "      <th>45</th>\n",
       "      <td>2 BHK Apartment  For Sale  In Brigade Panorama...</td>\n",
       "      <td>2 BHK Apartment  For Sale  In Brigade Panorama...</td>\n",
       "      <td>₹65 Lacs</td>\n",
       "      <td>NaN</td>\n",
       "      <td>Brigade Panorama  Survey No. 43/5, 43/30</td>\n",
       "      <td>₹65 Lacs₹6,871 per sq.ft.</td>\n",
       "    </tr>\n",
       "    <tr>\n",
       "      <th>46</th>\n",
       "      <td>3 BHK Apartment  For Sale  In Brigade Panorama...</td>\n",
       "      <td>3 BHK Apartment  For Sale  In Brigade Panorama...</td>\n",
       "      <td>₹1.05 Crores₹7,241 per sq.ft.Lacs</td>\n",
       "      <td>NaN</td>\n",
       "      <td>Brigade Panorama  Survey No. 43/5, 43/30 &amp; 238...</td>\n",
       "      <td>₹1.05 Crores₹7,241 per sq.ft.</td>\n",
       "    </tr>\n",
       "    <tr>\n",
       "      <th>47</th>\n",
       "      <td>3 BHK Apartment  For Sale  In Brigade Panorama...</td>\n",
       "      <td>3 BHK Apartment  For Sale  In Brigade Panorama...</td>\n",
       "      <td>₹1.05 Crores₹7,241 per sq.ft.Lacs</td>\n",
       "      <td>NaN</td>\n",
       "      <td>Brigade Panorama  Survey No. 43/5, 43/30 &amp; 238...</td>\n",
       "      <td>₹1.05 Crores₹7,241 per sq.ft.</td>\n",
       "    </tr>\n",
       "    <tr>\n",
       "      <th>48</th>\n",
       "      <td>3 BHK Apartment  For Sale  In Brigade Panorama...</td>\n",
       "      <td>3 BHK Apartment  For Sale  In Brigade Panorama...</td>\n",
       "      <td>₹1 Crore₹6,897 per sq.ft.Lacs</td>\n",
       "      <td>NaN</td>\n",
       "      <td>Brigade Panorama  Survey No. 43/5, 43/30 &amp; 238...</td>\n",
       "      <td>₹1 Crore₹6,897 per sq.ft.</td>\n",
       "    </tr>\n",
       "    <tr>\n",
       "      <th>49</th>\n",
       "      <td>3 BHK Apartment  For Sale  In Brigade Panorama...</td>\n",
       "      <td>3 BHK Apartment  For Sale  In Brigade Panorama...</td>\n",
       "      <td>₹1 Crore₹6,897 per sq.ft.Lacs</td>\n",
       "      <td>NaN</td>\n",
       "      <td>Brigade Panorama  Survey No. 43/5, 43/30 &amp; 238...</td>\n",
       "      <td>₹1 Crore₹6,897 per sq.ft.</td>\n",
       "    </tr>\n",
       "  </tbody>\n",
       "</table>\n",
       "<p>160 rows × 6 columns</p>\n",
       "</div>"
      ],
      "text/plain": [
       "                                                Title  \\\n",
       "0            2 BHK Flat for Sale in Hennur Main Road    \n",
       "1               2 BHK Flat for Sale in Sarjapur Road    \n",
       "2            2 BHK Flat for Sale in Kadubeesanahalli    \n",
       "3                  2 BHK Flat for Sale in whitefield    \n",
       "4                     1 BHK Flat for Sale in Varthur    \n",
       "..                                                ...   \n",
       "45  2 BHK Apartment  For Sale  In Brigade Panorama...   \n",
       "46  3 BHK Apartment  For Sale  In Brigade Panorama...   \n",
       "47  3 BHK Apartment  For Sale  In Brigade Panorama...   \n",
       "48  3 BHK Apartment  For Sale  In Brigade Panorama...   \n",
       "49  3 BHK Apartment  For Sale  In Brigade Panorama...   \n",
       "\n",
       "                                              Project  \\\n",
       "0                                     Purva Promenade   \n",
       "1                                   Bavisha Gardeniaa   \n",
       "2                                      Bhuvi By Amsha   \n",
       "3                                        Sai Sunshine   \n",
       "4                                   Candeur Signature   \n",
       "..                                                ...   \n",
       "45  2 BHK Apartment  For Sale  In Brigade Panorama...   \n",
       "46  3 BHK Apartment  For Sale  In Brigade Panorama...   \n",
       "47  3 BHK Apartment  For Sale  In Brigade Panorama...   \n",
       "48  3 BHK Apartment  For Sale  In Brigade Panorama...   \n",
       "49  3 BHK Apartment  For Sale  In Brigade Panorama...   \n",
       "\n",
       "                                 Cost   Cost Per Sqft  \\\n",
       "0                             ₹99 Lac  ₹8036 per sqft   \n",
       "1                           ₹39.3 Lac  ₹4500 per sqft   \n",
       "2                            ₹1.33 Cr  ₹9541 per sqft   \n",
       "3                           ₹64.7 Lac  ₹5460 per sqft   \n",
       "4                           ₹58.2 Lac  ₹9403 per sqft   \n",
       "..                                ...             ...   \n",
       "45                           ₹65 Lacs             NaN   \n",
       "46  ₹1.05 Crores₹7,241 per sq.ft.Lacs             NaN   \n",
       "47  ₹1.05 Crores₹7,241 per sq.ft.Lacs             NaN   \n",
       "48      ₹1 Crore₹6,897 per sq.ft.Lacs             NaN   \n",
       "49      ₹1 Crore₹6,897 per sq.ft.Lacs             NaN   \n",
       "\n",
       "                                                 Data  \\\n",
       "0   This property embraces 19.37 acres of land dis...   \n",
       "1   Bavisha Gardenia is a new Creation defining ur...   \n",
       "2   A Home Where Everything is a Blessing. A premi...   \n",
       "3   Sree Sai Sunshine which has Apartments at Whit...   \n",
       "4   Candeur signature is emerging as the hub for l...   \n",
       "..                                                ...   \n",
       "45           Brigade Panorama  Survey No. 43/5, 43/30   \n",
       "46  Brigade Panorama  Survey No. 43/5, 43/30 & 238...   \n",
       "47  Brigade Panorama  Survey No. 43/5, 43/30 & 238...   \n",
       "48  Brigade Panorama  Survey No. 43/5, 43/30 & 238...   \n",
       "49  Brigade Panorama  Survey No. 43/5, 43/30 & 238...   \n",
       "\n",
       "                    Cost per Sqft  \n",
       "0                             NaN  \n",
       "1                             NaN  \n",
       "2                             NaN  \n",
       "3                             NaN  \n",
       "4                             NaN  \n",
       "..                            ...  \n",
       "45      ₹65 Lacs₹6,871 per sq.ft.  \n",
       "46  ₹1.05 Crores₹7,241 per sq.ft.  \n",
       "47  ₹1.05 Crores₹7,241 per sq.ft.  \n",
       "48      ₹1 Crore₹6,897 per sq.ft.  \n",
       "49      ₹1 Crore₹6,897 per sq.ft.  \n",
       "\n",
       "[160 rows x 6 columns]"
      ]
     },
     "execution_count": 160,
     "metadata": {},
     "output_type": "execute_result"
    }
   ],
   "source": [
    "Real_estate"
   ]
  },
  {
   "cell_type": "code",
   "execution_count": 162,
   "id": "d5a1cb69",
   "metadata": {},
   "outputs": [],
   "source": [
    "Real_estate.to_csv('Real_Estate.csv')"
   ]
  },
  {
   "cell_type": "markdown",
   "id": "491cc7d5",
   "metadata": {},
   "source": [
    "# **Future scope**\n",
    "- Application of ML in this project"
   ]
  },
  {
   "cell_type": "markdown",
   "id": "ac924ced",
   "metadata": {},
   "source": [
    "# **Summary**\n",
    "\n",
    "- The Scraping was done using Python libraries such as Requests, Beautiful soup for extracting the data\n",
    "- Scraping real estate data form Real Estate website.\n",
    "- Parsed all the scraped data into csv file containing 160 rows and 36 columns."
   ]
  },
  {
   "cell_type": "markdown",
   "id": "79544b5e",
   "metadata": {},
   "source": [
    "# **References**\n",
    "\n",
    "https://www.nobroker.in/\n",
    "\n",
    "https://www.magicbricks.com/\n",
    "\n",
    "https://housing.com/in/"
   ]
  },
  {
   "cell_type": "code",
   "execution_count": 164,
   "id": "1d877ff8",
   "metadata": {},
   "outputs": [
    {
     "data": {
      "application/javascript": [
       "window.require && require([\"base/js/namespace\"],function(Jupyter){Jupyter.notebook.save_checkpoint()})"
      ],
      "text/plain": [
       "<IPython.core.display.Javascript object>"
      ]
     },
     "metadata": {},
     "output_type": "display_data"
    },
    {
     "name": "stdout",
     "output_type": "stream",
     "text": [
      "[jovian] Creating a new project \"rakesh-rajagopalachary/REAL ESTATE DATA WEB SCRAPING\"\u001b[0m\n",
      "[jovian] Committed successfully! https://jovian.ai/rakesh-rajagopalachary/real-estate-data-web-scraping\u001b[0m\n"
     ]
    },
    {
     "data": {
      "text/plain": [
       "'https://jovian.ai/rakesh-rajagopalachary/real-estate-data-web-scraping'"
      ]
     },
     "execution_count": 164,
     "metadata": {},
     "output_type": "execute_result"
    }
   ],
   "source": [
    "jovian.commit(project=\"REAL ESTATE DATA WEB SCRAPING\")"
   ]
  },
  {
   "cell_type": "code",
   "execution_count": null,
   "id": "bcf5db6d",
   "metadata": {},
   "outputs": [],
   "source": []
  }
 ],
 "metadata": {
  "kernelspec": {
   "display_name": "Python 3 (ipykernel)",
   "language": "python",
   "name": "python3"
  },
  "language_info": {
   "codemirror_mode": {
    "name": "ipython",
    "version": 3
   },
   "file_extension": ".py",
   "mimetype": "text/x-python",
   "name": "python",
   "nbconvert_exporter": "python",
   "pygments_lexer": "ipython3",
   "version": "3.9.7"
  }
 },
 "nbformat": 4,
 "nbformat_minor": 5
}
